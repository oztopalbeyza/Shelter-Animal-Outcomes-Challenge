{
 "cells": [
  {
   "cell_type": "markdown",
   "metadata": {
    "papermill": {
     "duration": 0.058923,
     "end_time": "2020-10-09T15:58:22.795437",
     "exception": false,
     "start_time": "2020-10-09T15:58:22.736514",
     "status": "completed"
    },
    "tags": []
   },
   "source": [
    "# **SHELTER ANIMAL OUTCOMES PREDICTIONS **"
   ]
  },
  {
   "cell_type": "markdown",
   "metadata": {
    "papermill": {
     "duration": 0.057539,
     "end_time": "2020-10-09T15:58:22.910745",
     "exception": false,
     "start_time": "2020-10-09T15:58:22.853206",
     "status": "completed"
    },
    "tags": []
   },
   "source": [
    "In this notebook you will see the data analysis, feature engineerings and modeling for shelter animal outcomes predictions, which is a competition of Kaggle. This competition aims to predict the outcome for each animal by using a dataset from **Austin Animal Center**. These insights could help shelters focus their energy on specific animals who need a little extra help finding a new home.\n",
    "\n",
    "**CONTENT:**\n",
    "1. Exploratory Data Analysis\n",
    "2. Feature Engineering\n",
    "3. Modelling \n"
   ]
  },
  {
   "cell_type": "markdown",
   "metadata": {
    "papermill": {
     "duration": 0.05723,
     "end_time": "2020-10-09T15:58:23.025335",
     "exception": false,
     "start_time": "2020-10-09T15:58:22.968105",
     "status": "completed"
    },
    "tags": []
   },
   "source": [
    "# **1. EXPLORATORY DATA ANALYSIS**"
   ]
  },
  {
   "cell_type": "code",
   "execution_count": 1,
   "metadata": {
    "execution": {
     "iopub.execute_input": "2020-10-09T15:58:23.153592Z",
     "iopub.status.busy": "2020-10-09T15:58:23.152762Z",
     "iopub.status.idle": "2020-10-09T15:58:55.634130Z",
     "shell.execute_reply": "2020-10-09T15:58:55.633286Z"
    },
    "papermill": {
     "duration": 32.550524,
     "end_time": "2020-10-09T15:58:55.634263",
     "exception": false,
     "start_time": "2020-10-09T15:58:23.083739",
     "status": "completed"
    },
    "tags": []
   },
   "outputs": [
    {
     "name": "stdout",
     "output_type": "stream",
     "text": [
      "Requirement already satisfied: pandas in c:\\users\\oztop\\anaconda3\\lib\\site-packages (1.1.3)\n",
      "Collecting plotnine\n",
      "  Downloading plotnine-0.8.0-py3-none-any.whl (4.7 MB)\n",
      "Requirement already satisfied: numpy>=1.15.4 in c:\\users\\oztop\\anaconda3\\lib\\site-packages (from pandas) (1.19.2)\n",
      "Requirement already satisfied: pytz>=2017.2 in c:\\users\\oztop\\anaconda3\\lib\\site-packages (from pandas) (2020.1)\n",
      "Requirement already satisfied: python-dateutil>=2.7.3 in c:\\users\\oztop\\anaconda3\\lib\\site-packages (from pandas) (2.8.1)\n",
      "Requirement already satisfied: matplotlib>=3.1.1 in c:\\users\\oztop\\anaconda3\\lib\\site-packages (from plotnine) (3.3.2)\n",
      "Collecting mizani>=0.7.3\n",
      "  Downloading mizani-0.7.3-py3-none-any.whl (63 kB)\n",
      "Collecting descartes>=1.1.0\n",
      "  Downloading descartes-1.1.0-py3-none-any.whl (5.8 kB)\n",
      "Collecting statsmodels>=0.12.1\n",
      "  Downloading statsmodels-0.12.2-cp38-none-win_amd64.whl (9.4 MB)\n",
      "Requirement already satisfied: patsy>=0.5.1 in c:\\users\\oztop\\anaconda3\\lib\\site-packages (from plotnine) (0.5.1)\n",
      "Requirement already satisfied: scipy>=1.5.0 in c:\\users\\oztop\\anaconda3\\lib\\site-packages (from plotnine) (1.5.2)\n",
      "Requirement already satisfied: six>=1.5 in c:\\users\\oztop\\anaconda3\\lib\\site-packages (from python-dateutil>=2.7.3->pandas) (1.15.0)\n",
      "Requirement already satisfied: kiwisolver>=1.0.1 in c:\\users\\oztop\\anaconda3\\lib\\site-packages (from matplotlib>=3.1.1->plotnine) (1.3.0)\n",
      "Requirement already satisfied: certifi>=2020.06.20 in c:\\users\\oztop\\anaconda3\\lib\\site-packages (from matplotlib>=3.1.1->plotnine) (2020.6.20)\n",
      "Requirement already satisfied: cycler>=0.10 in c:\\users\\oztop\\anaconda3\\lib\\site-packages (from matplotlib>=3.1.1->plotnine) (0.10.0)\n",
      "Requirement already satisfied: pillow>=6.2.0 in c:\\users\\oztop\\anaconda3\\lib\\site-packages (from matplotlib>=3.1.1->plotnine) (8.0.1)\n",
      "Requirement already satisfied: pyparsing!=2.0.4,!=2.1.2,!=2.1.6,>=2.0.3 in c:\\users\\oztop\\anaconda3\\lib\\site-packages (from matplotlib>=3.1.1->plotnine) (2.4.7)\n",
      "Collecting palettable\n",
      "  Downloading palettable-3.3.0-py2.py3-none-any.whl (111 kB)\n",
      "Installing collected packages: palettable, mizani, descartes, statsmodels, plotnine\n",
      "  Attempting uninstall: statsmodels\n",
      "    Found existing installation: statsmodels 0.12.0\n",
      "    Uninstalling statsmodels-0.12.0:\n",
      "      Successfully uninstalled statsmodels-0.12.0\n",
      "Successfully installed descartes-1.1.0 mizani-0.7.3 palettable-3.3.0 plotnine-0.8.0 statsmodels-0.12.2\n"
     ]
    }
   ],
   "source": [
    "#necessary imports\n",
    "!pip install pandas plotnine\n",
    "import pandas as pd\n",
    "import numpy as np\n",
    "import seaborn as sns\n",
    "import matplotlib.pyplot as plt\n",
    "from sklearn import preprocessing\n",
    "import warnings\n",
    "warnings.filterwarnings('ignore')\n",
    "from plotnine import *\n",
    "%matplotlib inline"
   ]
  },
  {
   "cell_type": "code",
   "execution_count": 4,
   "metadata": {
    "_cell_guid": "79c7e3d0-c299-4dcb-8224-4455121ee9b0",
    "_uuid": "d629ff2d2480ee46fbb7e2d37f6b5fab8052498a",
    "execution": {
     "iopub.execute_input": "2020-10-09T15:58:55.761401Z",
     "iopub.status.busy": "2020-10-09T15:58:55.760409Z",
     "iopub.status.idle": "2020-10-09T15:58:55.940355Z",
     "shell.execute_reply": "2020-10-09T15:58:55.939692Z"
    },
    "papermill": {
     "duration": 0.245566,
     "end_time": "2020-10-09T15:58:55.940489",
     "exception": false,
     "start_time": "2020-10-09T15:58:55.694923",
     "status": "completed"
    },
    "tags": []
   },
   "outputs": [
    {
     "data": {
      "text/html": [
       "<div>\n",
       "<style scoped>\n",
       "    .dataframe tbody tr th:only-of-type {\n",
       "        vertical-align: middle;\n",
       "    }\n",
       "\n",
       "    .dataframe tbody tr th {\n",
       "        vertical-align: top;\n",
       "    }\n",
       "\n",
       "    .dataframe thead th {\n",
       "        text-align: right;\n",
       "    }\n",
       "</style>\n",
       "<table border=\"1\" class=\"dataframe\">\n",
       "  <thead>\n",
       "    <tr style=\"text-align: right;\">\n",
       "      <th></th>\n",
       "      <th>AnimalID</th>\n",
       "      <th>Name</th>\n",
       "      <th>DateTime</th>\n",
       "      <th>OutcomeType</th>\n",
       "      <th>OutcomeSubtype</th>\n",
       "      <th>AnimalType</th>\n",
       "      <th>SexuponOutcome</th>\n",
       "      <th>AgeuponOutcome</th>\n",
       "      <th>Breed</th>\n",
       "      <th>Color</th>\n",
       "    </tr>\n",
       "  </thead>\n",
       "  <tbody>\n",
       "    <tr>\n",
       "      <th>0</th>\n",
       "      <td>A671945</td>\n",
       "      <td>Hambone</td>\n",
       "      <td>2014-02-12 18:22:00</td>\n",
       "      <td>Return_to_owner</td>\n",
       "      <td>NaN</td>\n",
       "      <td>Dog</td>\n",
       "      <td>Neutered Male</td>\n",
       "      <td>1 year</td>\n",
       "      <td>Shetland Sheepdog Mix</td>\n",
       "      <td>Brown/White</td>\n",
       "    </tr>\n",
       "    <tr>\n",
       "      <th>1</th>\n",
       "      <td>A656520</td>\n",
       "      <td>Emily</td>\n",
       "      <td>2013-10-13 12:44:00</td>\n",
       "      <td>Euthanasia</td>\n",
       "      <td>Suffering</td>\n",
       "      <td>Cat</td>\n",
       "      <td>Spayed Female</td>\n",
       "      <td>1 year</td>\n",
       "      <td>Domestic Shorthair Mix</td>\n",
       "      <td>Cream Tabby</td>\n",
       "    </tr>\n",
       "    <tr>\n",
       "      <th>2</th>\n",
       "      <td>A686464</td>\n",
       "      <td>Pearce</td>\n",
       "      <td>2015-01-31 12:28:00</td>\n",
       "      <td>Adoption</td>\n",
       "      <td>Foster</td>\n",
       "      <td>Dog</td>\n",
       "      <td>Neutered Male</td>\n",
       "      <td>2 years</td>\n",
       "      <td>Pit Bull Mix</td>\n",
       "      <td>Blue/White</td>\n",
       "    </tr>\n",
       "  </tbody>\n",
       "</table>\n",
       "</div>"
      ],
      "text/plain": [
       "  AnimalID     Name             DateTime      OutcomeType OutcomeSubtype  \\\n",
       "0  A671945  Hambone  2014-02-12 18:22:00  Return_to_owner            NaN   \n",
       "1  A656520    Emily  2013-10-13 12:44:00       Euthanasia      Suffering   \n",
       "2  A686464   Pearce  2015-01-31 12:28:00         Adoption         Foster   \n",
       "\n",
       "  AnimalType SexuponOutcome AgeuponOutcome                   Breed  \\\n",
       "0        Dog  Neutered Male         1 year   Shetland Sheepdog Mix   \n",
       "1        Cat  Spayed Female         1 year  Domestic Shorthair Mix   \n",
       "2        Dog  Neutered Male        2 years            Pit Bull Mix   \n",
       "\n",
       "         Color  \n",
       "0  Brown/White  \n",
       "1  Cream Tabby  \n",
       "2   Blue/White  "
      ]
     },
     "execution_count": 4,
     "metadata": {},
     "output_type": "execute_result"
    }
   ],
   "source": [
    "#loading train & test data\n",
    "\n",
    "train = pd.read_csv('train.csv')\n",
    "test = pd.read_csv('test.csv')\n",
    "\n",
    "train.head(3)"
   ]
  },
  {
   "cell_type": "code",
   "execution_count": 5,
   "metadata": {
    "execution": {
     "iopub.execute_input": "2020-10-09T15:58:56.078131Z",
     "iopub.status.busy": "2020-10-09T15:58:56.077023Z",
     "iopub.status.idle": "2020-10-09T15:58:56.080876Z",
     "shell.execute_reply": "2020-10-09T15:58:56.081455Z"
    },
    "papermill": {
     "duration": 0.079569,
     "end_time": "2020-10-09T15:58:56.081603",
     "exception": false,
     "start_time": "2020-10-09T15:58:56.002034",
     "status": "completed"
    },
    "tags": []
   },
   "outputs": [
    {
     "data": {
      "text/html": [
       "<div>\n",
       "<style scoped>\n",
       "    .dataframe tbody tr th:only-of-type {\n",
       "        vertical-align: middle;\n",
       "    }\n",
       "\n",
       "    .dataframe tbody tr th {\n",
       "        vertical-align: top;\n",
       "    }\n",
       "\n",
       "    .dataframe thead th {\n",
       "        text-align: right;\n",
       "    }\n",
       "</style>\n",
       "<table border=\"1\" class=\"dataframe\">\n",
       "  <thead>\n",
       "    <tr style=\"text-align: right;\">\n",
       "      <th></th>\n",
       "      <th>ID</th>\n",
       "      <th>Name</th>\n",
       "      <th>DateTime</th>\n",
       "      <th>AnimalType</th>\n",
       "      <th>SexuponOutcome</th>\n",
       "      <th>AgeuponOutcome</th>\n",
       "      <th>Breed</th>\n",
       "      <th>Color</th>\n",
       "    </tr>\n",
       "  </thead>\n",
       "  <tbody>\n",
       "    <tr>\n",
       "      <th>0</th>\n",
       "      <td>1</td>\n",
       "      <td>Summer</td>\n",
       "      <td>2015-10-12 12:15:00</td>\n",
       "      <td>Dog</td>\n",
       "      <td>Intact Female</td>\n",
       "      <td>10 months</td>\n",
       "      <td>Labrador Retriever Mix</td>\n",
       "      <td>Red/White</td>\n",
       "    </tr>\n",
       "    <tr>\n",
       "      <th>1</th>\n",
       "      <td>2</td>\n",
       "      <td>Cheyenne</td>\n",
       "      <td>2014-07-26 17:59:00</td>\n",
       "      <td>Dog</td>\n",
       "      <td>Spayed Female</td>\n",
       "      <td>2 years</td>\n",
       "      <td>German Shepherd/Siberian Husky</td>\n",
       "      <td>Black/Tan</td>\n",
       "    </tr>\n",
       "    <tr>\n",
       "      <th>2</th>\n",
       "      <td>3</td>\n",
       "      <td>Gus</td>\n",
       "      <td>2016-01-13 12:20:00</td>\n",
       "      <td>Cat</td>\n",
       "      <td>Neutered Male</td>\n",
       "      <td>1 year</td>\n",
       "      <td>Domestic Shorthair Mix</td>\n",
       "      <td>Brown Tabby</td>\n",
       "    </tr>\n",
       "  </tbody>\n",
       "</table>\n",
       "</div>"
      ],
      "text/plain": [
       "   ID      Name             DateTime AnimalType SexuponOutcome AgeuponOutcome  \\\n",
       "0   1    Summer  2015-10-12 12:15:00        Dog  Intact Female      10 months   \n",
       "1   2  Cheyenne  2014-07-26 17:59:00        Dog  Spayed Female        2 years   \n",
       "2   3       Gus  2016-01-13 12:20:00        Cat  Neutered Male         1 year   \n",
       "\n",
       "                            Breed        Color  \n",
       "0          Labrador Retriever Mix    Red/White  \n",
       "1  German Shepherd/Siberian Husky    Black/Tan  \n",
       "2          Domestic Shorthair Mix  Brown Tabby  "
      ]
     },
     "execution_count": 5,
     "metadata": {},
     "output_type": "execute_result"
    }
   ],
   "source": [
    "test.head(3)"
   ]
  },
  {
   "cell_type": "code",
   "execution_count": 6,
   "metadata": {
    "execution": {
     "iopub.execute_input": "2020-10-09T15:58:56.231623Z",
     "iopub.status.busy": "2020-10-09T15:58:56.224152Z",
     "iopub.status.idle": "2020-10-09T15:58:56.386640Z",
     "shell.execute_reply": "2020-10-09T15:58:56.385889Z"
    },
    "papermill": {
     "duration": 0.243567,
     "end_time": "2020-10-09T15:58:56.386787",
     "exception": false,
     "start_time": "2020-10-09T15:58:56.143220",
     "status": "completed"
    },
    "tags": []
   },
   "outputs": [
    {
     "data": {
      "text/html": [
       "<div>\n",
       "<style scoped>\n",
       "    .dataframe tbody tr th:only-of-type {\n",
       "        vertical-align: middle;\n",
       "    }\n",
       "\n",
       "    .dataframe tbody tr th {\n",
       "        vertical-align: top;\n",
       "    }\n",
       "\n",
       "    .dataframe thead th {\n",
       "        text-align: right;\n",
       "    }\n",
       "</style>\n",
       "<table border=\"1\" class=\"dataframe\">\n",
       "  <thead>\n",
       "    <tr style=\"text-align: right;\">\n",
       "      <th></th>\n",
       "      <th>AnimalID</th>\n",
       "      <th>Name</th>\n",
       "      <th>DateTime</th>\n",
       "      <th>OutcomeType</th>\n",
       "      <th>OutcomeSubtype</th>\n",
       "      <th>AnimalType</th>\n",
       "      <th>SexuponOutcome</th>\n",
       "      <th>AgeuponOutcome</th>\n",
       "      <th>Breed</th>\n",
       "      <th>Color</th>\n",
       "    </tr>\n",
       "  </thead>\n",
       "  <tbody>\n",
       "    <tr>\n",
       "      <th>count</th>\n",
       "      <td>26729</td>\n",
       "      <td>19038</td>\n",
       "      <td>26729</td>\n",
       "      <td>26729</td>\n",
       "      <td>13117</td>\n",
       "      <td>26729</td>\n",
       "      <td>26728</td>\n",
       "      <td>26711</td>\n",
       "      <td>26729</td>\n",
       "      <td>26729</td>\n",
       "    </tr>\n",
       "    <tr>\n",
       "      <th>unique</th>\n",
       "      <td>26729</td>\n",
       "      <td>6374</td>\n",
       "      <td>22918</td>\n",
       "      <td>5</td>\n",
       "      <td>16</td>\n",
       "      <td>2</td>\n",
       "      <td>5</td>\n",
       "      <td>44</td>\n",
       "      <td>1380</td>\n",
       "      <td>366</td>\n",
       "    </tr>\n",
       "    <tr>\n",
       "      <th>top</th>\n",
       "      <td>A684845</td>\n",
       "      <td>Max</td>\n",
       "      <td>2015-08-11 00:00:00</td>\n",
       "      <td>Adoption</td>\n",
       "      <td>Partner</td>\n",
       "      <td>Dog</td>\n",
       "      <td>Neutered Male</td>\n",
       "      <td>1 year</td>\n",
       "      <td>Domestic Shorthair Mix</td>\n",
       "      <td>Black/White</td>\n",
       "    </tr>\n",
       "    <tr>\n",
       "      <th>freq</th>\n",
       "      <td>1</td>\n",
       "      <td>136</td>\n",
       "      <td>19</td>\n",
       "      <td>10769</td>\n",
       "      <td>7816</td>\n",
       "      <td>15595</td>\n",
       "      <td>9779</td>\n",
       "      <td>3969</td>\n",
       "      <td>8810</td>\n",
       "      <td>2824</td>\n",
       "    </tr>\n",
       "  </tbody>\n",
       "</table>\n",
       "</div>"
      ],
      "text/plain": [
       "       AnimalID   Name             DateTime OutcomeType OutcomeSubtype  \\\n",
       "count     26729  19038                26729       26729          13117   \n",
       "unique    26729   6374                22918           5             16   \n",
       "top     A684845    Max  2015-08-11 00:00:00    Adoption        Partner   \n",
       "freq          1    136                   19       10769           7816   \n",
       "\n",
       "       AnimalType SexuponOutcome AgeuponOutcome                   Breed  \\\n",
       "count       26729          26728          26711                   26729   \n",
       "unique          2              5             44                    1380   \n",
       "top           Dog  Neutered Male         1 year  Domestic Shorthair Mix   \n",
       "freq        15595           9779           3969                    8810   \n",
       "\n",
       "              Color  \n",
       "count         26729  \n",
       "unique          366  \n",
       "top     Black/White  \n",
       "freq           2824  "
      ]
     },
     "execution_count": 6,
     "metadata": {},
     "output_type": "execute_result"
    }
   ],
   "source": [
    "train.describe()\n"
   ]
  },
  {
   "cell_type": "code",
   "execution_count": 7,
   "metadata": {
    "execution": {
     "iopub.execute_input": "2020-10-09T15:58:56.519812Z",
     "iopub.status.busy": "2020-10-09T15:58:56.518723Z",
     "iopub.status.idle": "2020-10-09T15:58:56.533071Z",
     "shell.execute_reply": "2020-10-09T15:58:56.533649Z"
    },
    "papermill": {
     "duration": 0.085427,
     "end_time": "2020-10-09T15:58:56.533835",
     "exception": false,
     "start_time": "2020-10-09T15:58:56.448408",
     "status": "completed"
    },
    "tags": []
   },
   "outputs": [
    {
     "name": "stdout",
     "output_type": "stream",
     "text": [
      "OutcomeType:\n",
      " ['Return_to_owner' 'Euthanasia' 'Adoption' 'Transfer' 'Died']\n",
      "\n",
      "AnimalType:\n",
      " ['Dog' 'Cat']\n",
      "\n",
      "SexuponOutcome:\n",
      " ['Neutered Male' 'Spayed Female' 'Intact Male' 'Intact Female' 'Unknown'\n",
      " nan]\n",
      "\n",
      "AgeuponOutcome: ['1 year' '2 years' '3 weeks' '1 month' '5 months' '4 years' '3 months'\n",
      " '2 weeks' '2 months' '10 months' '6 months' '5 years' '7 years' '3 years'\n",
      " '4 months' '12 years' '9 years' '6 years' '1 weeks' '11 years' '4 weeks'\n",
      " '7 months' '8 years' '11 months' '4 days' '9 months' '8 months'\n",
      " '15 years' '10 years' '1 week' '0 years' '14 years' '3 days' '6 days'\n",
      " '5 days' '5 weeks' '2 days' '16 years' '1 day' '13 years' nan '17 years'\n",
      " '18 years' '19 years' '20 years']\n"
     ]
    }
   ],
   "source": [
    "print(\"OutcomeType:\\n\",train.OutcomeType.unique())\n",
    "print(\"\\nAnimalType:\\n\",train.AnimalType.unique())\n",
    "print(\"\\nSexuponOutcome:\\n\",train.SexuponOutcome.unique())\n",
    "print(\"\\nAgeuponOutcome:\",train.AgeuponOutcome.unique())"
   ]
  },
  {
   "cell_type": "markdown",
   "metadata": {
    "papermill": {
     "duration": 0.061809,
     "end_time": "2020-10-09T15:58:56.658049",
     "exception": false,
     "start_time": "2020-10-09T15:58:56.596240",
     "status": "completed"
    },
    "tags": []
   },
   "source": [
    "**\"OutcomeType\"** column is our target feature and contains 5 different outcomes for animals. Also, we see that almost all the columns have categorical values. Datasets contains only two types of animals, cat & dog. **\"AgeuponOutcome\"** feature are given in different time units so needs to arrange. **\"SexuponOutcome\"** feature includes interfility information as well as sex information. Also we see **\"Breed\"** & **\"Color\"** columns contain severel unique values. Now let check the null values."
   ]
  },
  {
   "cell_type": "code",
   "execution_count": 8,
   "metadata": {
    "execution": {
     "iopub.execute_input": "2020-10-09T15:58:56.815854Z",
     "iopub.status.busy": "2020-10-09T15:58:56.815032Z",
     "iopub.status.idle": "2020-10-09T15:58:57.268966Z",
     "shell.execute_reply": "2020-10-09T15:58:57.268178Z"
    },
    "papermill": {
     "duration": 0.5489,
     "end_time": "2020-10-09T15:58:57.269093",
     "exception": false,
     "start_time": "2020-10-09T15:58:56.720193",
     "status": "completed"
    },
    "tags": []
   },
   "outputs": [
    {
     "data": {
      "text/plain": [
       "<AxesSubplot:>"
      ]
     },
     "execution_count": 8,
     "metadata": {},
     "output_type": "execute_result"
    },
    {
     "data": {
      "image/png": "[encoded data removed]",
      "text/plain": [
       "<Figure size 432x288 with 1 Axes>"
      ]
     },
     "metadata": {
      "needs_background": "light"
     },
     "output_type": "display_data"
    }
   ],
   "source": [
    "sns.heatmap(train.isnull(),yticklabels=False,cbar=False,cmap='viridis')"
   ]
  },
  {
   "cell_type": "code",
   "execution_count": 9,
   "metadata": {
    "execution": {
     "iopub.execute_input": "2020-10-09T15:58:57.409516Z",
     "iopub.status.busy": "2020-10-09T15:58:57.405819Z",
     "iopub.status.idle": "2020-10-09T15:58:57.414283Z",
     "shell.execute_reply": "2020-10-09T15:58:57.413531Z"
    },
    "papermill": {
     "duration": 0.081431,
     "end_time": "2020-10-09T15:58:57.414406",
     "exception": false,
     "start_time": "2020-10-09T15:58:57.332975",
     "status": "completed"
    },
    "tags": []
   },
   "outputs": [
    {
     "name": "stdout",
     "output_type": "stream",
     "text": [
      "Null percentage of Name: 0.2877399079651315\n",
      "Null percentage of OutcomeSubtype: 0.5092596056717423\n"
     ]
    }
   ],
   "source": [
    "print(\"Null percentage of Name:\",train[\"Name\"].isna().sum()/train[\"Name\"].shape[0])\n",
    "print(\"Null percentage of OutcomeSubtype:\",train[\"OutcomeSubtype\"].isna().sum()/train[\"OutcomeSubtype\"].shape[0])"
   ]
  },
  {
   "cell_type": "markdown",
   "metadata": {
    "papermill": {
     "duration": 0.064481,
     "end_time": "2020-10-09T15:58:57.543739",
     "exception": false,
     "start_time": "2020-10-09T15:58:57.479258",
     "status": "completed"
    },
    "tags": []
   },
   "source": [
    "We see **\"Name\"** feature includes **28 percent** of null values, we will regulate this feature later. Also **\"OutcomeSubtype\"** feature includes **50 percent** of null values. Since this feature is not included in test column and so related with our target feature \"OutcomeType\", we will drop it.\n"
   ]
  },
  {
   "cell_type": "code",
   "execution_count": 10,
   "metadata": {
    "execution": {
     "iopub.execute_input": "2020-10-09T15:58:57.683255Z",
     "iopub.status.busy": "2020-10-09T15:58:57.682456Z",
     "iopub.status.idle": "2020-10-09T15:58:57.685753Z",
     "shell.execute_reply": "2020-10-09T15:58:57.685175Z"
    },
    "papermill": {
     "duration": 0.07744,
     "end_time": "2020-10-09T15:58:57.685890",
     "exception": false,
     "start_time": "2020-10-09T15:58:57.608450",
     "status": "completed"
    },
    "tags": []
   },
   "outputs": [],
   "source": [
    "#to work easier rename the column names\n",
    "\n",
    "train.rename(columns={'AnimalID' :'ID','Name':'name', 'DateTime':'date','OutcomeType':'target','OutcomeSubtype':'subtype','AnimalType':'animal','SexuponOutcome':'sex','AgeuponOutcome':'age','Breed':'breed','Color':'color'}, inplace=True) \n",
    "test.rename(columns={'Name':'name', 'DateTime':'date','AnimalType':'animal','SexuponOutcome':'sex','AgeuponOutcome':'age','Breed':'breed','Color':'color'}, inplace=True) "
   ]
  },
  {
   "cell_type": "markdown",
   "metadata": {
    "papermill": {
     "duration": 0.064455,
     "end_time": "2020-10-09T15:58:57.814883",
     "exception": false,
     "start_time": "2020-10-09T15:58:57.750428",
     "status": "completed"
    },
    "tags": []
   },
   "source": [
    "Now, for better understanding let's look at the relations of some features with target column."
   ]
  },
  {
   "cell_type": "code",
   "execution_count": 11,
   "metadata": {
    "execution": {
     "iopub.execute_input": "2020-10-09T15:58:57.954473Z",
     "iopub.status.busy": "2020-10-09T15:58:57.952642Z",
     "iopub.status.idle": "2020-10-09T15:58:58.100100Z",
     "shell.execute_reply": "2020-10-09T15:58:58.099350Z"
    },
    "papermill": {
     "duration": 0.220721,
     "end_time": "2020-10-09T15:58:58.100228",
     "exception": false,
     "start_time": "2020-10-09T15:58:57.879507",
     "status": "completed"
    },
    "tags": []
   },
   "outputs": [
    {
     "data": {
      "text/plain": [
       "<AxesSubplot:xlabel='target', ylabel='count'>"
      ]
     },
     "execution_count": 11,
     "metadata": {},
     "output_type": "execute_result"
    },
    {
     "data": {
      "image/png": "[encoded data removed]",
      "text/plain": [
       "<Figure size 504x360 with 1 Axes>"
      ]
     },
     "metadata": {
      "needs_background": "light"
     },
     "output_type": "display_data"
    }
   ],
   "source": [
    "plt.figure(figsize=(7,5))\n",
    "sns.countplot(x=train.target, order=['Adoption','Transfer','Return_to_owner','Euthanasia','Died'])"
   ]
  },
  {
   "cell_type": "markdown",
   "metadata": {
    "papermill": {
     "duration": 0.066222,
     "end_time": "2020-10-09T15:58:58.232384",
     "exception": false,
     "start_time": "2020-10-09T15:58:58.166162",
     "status": "completed"
    },
    "tags": []
   },
   "source": [
    "We see euthanasia and died outcomes are very less wrt others."
   ]
  },
  {
   "cell_type": "code",
   "execution_count": 12,
   "metadata": {
    "execution": {
     "iopub.execute_input": "2020-10-09T15:58:58.378153Z",
     "iopub.status.busy": "2020-10-09T15:58:58.371932Z",
     "iopub.status.idle": "2020-10-09T15:58:59.080140Z",
     "shell.execute_reply": "2020-10-09T15:58:59.079467Z"
    },
    "papermill": {
     "duration": 0.782131,
     "end_time": "2020-10-09T15:58:59.080263",
     "exception": false,
     "start_time": "2020-10-09T15:58:58.298132",
     "status": "completed"
    },
    "tags": []
   },
   "outputs": [
    {
     "data": {
      "image/png": "[encoded data removed]",
      "text/plain": [
       "<Figure size 640x480 with 1 Axes>"
      ]
     },
     "metadata": {},
     "output_type": "display_data"
    },
    {
     "data": {
      "text/plain": [
       "<ggplot: (161871557443)>"
      ]
     },
     "execution_count": 12,
     "metadata": {},
     "output_type": "execute_result"
    }
   ],
   "source": [
    "ggplot(train, aes(x='animal', fill='target')) + geom_bar(colour='black') + labs(y='count')"
   ]
  },
  {
   "cell_type": "markdown",
   "metadata": {
    "papermill": {
     "duration": 0.067862,
     "end_time": "2020-10-09T15:58:59.215724",
     "exception": false,
     "start_time": "2020-10-09T15:58:59.147862",
     "status": "completed"
    },
    "tags": []
   },
   "source": [
    "In this graph we see number of cats is  less than number of dogs in the dataset and outcome types have different patterns in terms of cats and dogs. While \"transfer\" and \"died\" outcomes are higher for cats, \"return_to_owner\" and \"adoption\" outcomes are higher for dogs."
   ]
  },
  {
   "cell_type": "code",
   "execution_count": 13,
   "metadata": {
    "execution": {
     "iopub.execute_input": "2020-10-09T15:58:59.363639Z",
     "iopub.status.busy": "2020-10-09T15:58:59.362918Z",
     "iopub.status.idle": "2020-10-09T15:58:59.683782Z",
     "shell.execute_reply": "2020-10-09T15:58:59.684385Z"
    },
    "papermill": {
     "duration": 0.401761,
     "end_time": "2020-10-09T15:58:59.684539",
     "exception": false,
     "start_time": "2020-10-09T15:58:59.282778",
     "status": "completed"
    },
    "tags": []
   },
   "outputs": [
    {
     "data": {
      "text/plain": [
       "<AxesSubplot:xlabel='sex', ylabel='count'>"
      ]
     },
     "execution_count": 13,
     "metadata": {},
     "output_type": "execute_result"
    },
    {
     "data": {
      "image/png": "[encoded data removed]",
      "text/plain": [
       "<Figure size 720x432 with 1 Axes>"
      ]
     },
     "metadata": {
      "needs_background": "light"
     },
     "output_type": "display_data"
    }
   ],
   "source": [
    "plt.figure(figsize=(10,6))\n",
    "sns.countplot(x='sex',data=train,hue='target')"
   ]
  },
  {
   "cell_type": "markdown",
   "metadata": {
    "papermill": {
     "duration": 0.068651,
     "end_time": "2020-10-09T15:58:59.822035",
     "exception": false,
     "start_time": "2020-10-09T15:58:59.753384",
     "status": "completed"
    },
    "tags": []
   },
   "source": [
    "In this plot we see the distribution of outcomes on sex feature and notice that infertility has a great impact on **\"adoption\"** and **\"return_to_owner\"** outcomes. So we will regulate this feature in terms of infertility and sex separately."
   ]
  },
  {
   "cell_type": "markdown",
   "metadata": {
    "papermill": {
     "duration": 0.069072,
     "end_time": "2020-10-09T15:58:59.960186",
     "exception": false,
     "start_time": "2020-10-09T15:58:59.891114",
     "status": "completed"
    },
    "tags": []
   },
   "source": [
    "For other features we cannot see the relation with target column without regulate them.So we will do some feature engineerings and than check their relations with target column."
   ]
  },
  {
   "cell_type": "markdown",
   "metadata": {
    "papermill": {
     "duration": 0.068994,
     "end_time": "2020-10-09T15:59:00.098609",
     "exception": false,
     "start_time": "2020-10-09T15:59:00.029615",
     "status": "completed"
    },
    "tags": []
   },
   "source": [
    "# **2. FEATURE ENGINEERING**"
   ]
  },
  {
   "cell_type": "markdown",
   "metadata": {
    "papermill": {
     "duration": 0.068551,
     "end_time": "2020-10-09T15:59:00.236509",
     "exception": false,
     "start_time": "2020-10-09T15:59:00.167958",
     "status": "completed"
    },
    "tags": []
   },
   "source": [
    "In this part of the notebook we will do some feature engineerings for our features and prepare them to model. After my studies, I decided to split both training and test dataset into cats and dog, and do regulations separately then train for each cat/dog dataset. We will use these two classifier to predict the outcome for the test dataset and combine the results finally. We will do this splitting because dogs and cats have different tendencies, so I observed models learn better in this way. Also I will do some feature engineerings to the dogs dataset that does not belong in cats dataset.\n"
   ]
  },
  {
   "cell_type": "code",
   "execution_count": 14,
   "metadata": {
    "execution": {
     "iopub.execute_input": "2020-10-09T15:59:00.385749Z",
     "iopub.status.busy": "2020-10-09T15:59:00.384908Z",
     "iopub.status.idle": "2020-10-09T15:59:00.406181Z",
     "shell.execute_reply": "2020-10-09T15:59:00.405412Z"
    },
    "papermill": {
     "duration": 0.101004,
     "end_time": "2020-10-09T15:59:00.406302",
     "exception": false,
     "start_time": "2020-10-09T15:59:00.305298",
     "status": "completed"
    },
    "tags": []
   },
   "outputs": [],
   "source": [
    "train_dog = train.loc[train.animal == 'Dog']\n",
    "train_cat = train.loc[train.animal == 'Cat']\n",
    "\n",
    "test_dog = test.loc[test.animal == 'Dog']\n",
    "test_cat = test.loc[test.animal == 'Cat']"
   ]
  },
  {
   "cell_type": "markdown",
   "metadata": {
    "papermill": {
     "duration": 0.068679,
     "end_time": "2020-10-09T15:59:00.544368",
     "exception": false,
     "start_time": "2020-10-09T15:59:00.475689",
     "status": "completed"
    },
    "tags": []
   },
   "source": [
    "**AGE**"
   ]
  },
  {
   "cell_type": "code",
   "execution_count": 15,
   "metadata": {
    "execution": {
     "iopub.execute_input": "2020-10-09T15:59:00.691463Z",
     "iopub.status.busy": "2020-10-09T15:59:00.690724Z",
     "iopub.status.idle": "2020-10-09T15:59:00.695467Z",
     "shell.execute_reply": "2020-10-09T15:59:00.694747Z"
    },
    "papermill": {
     "duration": 0.082526,
     "end_time": "2020-10-09T15:59:00.695584",
     "exception": false,
     "start_time": "2020-10-09T15:59:00.613058",
     "status": "completed"
    },
    "tags": []
   },
   "outputs": [
    {
     "name": "stdout",
     "output_type": "stream",
     "text": [
      "\n",
      "AgeuponOutcome: ['1 year' '2 years' '3 weeks' '1 month' '5 months' '4 years' '3 months'\n",
      " '2 weeks' '2 months' '10 months' '6 months' '5 years' '7 years' '3 years'\n",
      " '4 months' '12 years' '9 years' '6 years' '1 weeks' '11 years' '4 weeks'\n",
      " '7 months' '8 years' '11 months' '4 days' '9 months' '8 months'\n",
      " '15 years' '10 years' '1 week' '0 years' '14 years' '3 days' '6 days'\n",
      " '5 days' '5 weeks' '2 days' '16 years' '1 day' '13 years' nan '17 years'\n",
      " '18 years' '19 years' '20 years']\n"
     ]
    }
   ],
   "source": [
    "print(\"\\nAgeuponOutcome:\",train.age.unique())"
   ]
  },
  {
   "cell_type": "code",
   "execution_count": 16,
   "metadata": {
    "execution": {
     "iopub.execute_input": "2020-10-09T15:59:00.865527Z",
     "iopub.status.busy": "2020-10-09T15:59:00.860345Z",
     "iopub.status.idle": "2020-10-09T15:59:01.043965Z",
     "shell.execute_reply": "2020-10-09T15:59:01.043255Z"
    },
    "papermill": {
     "duration": 0.278667,
     "end_time": "2020-10-09T15:59:01.044089",
     "exception": false,
     "start_time": "2020-10-09T15:59:00.765422",
     "status": "completed"
    },
    "tags": []
   },
   "outputs": [],
   "source": [
    "#since age column contains different time units, convert them to month\n",
    "def age_month(x):\n",
    "  x = str(x)\n",
    "  if x == 'nan':\n",
    "    return 0\n",
    "  age = int(x.split()[0])\n",
    "  if x.find('year') > -1:\n",
    "    return age * 12\n",
    "  if x.find('month') > -1:\n",
    "    return age\n",
    "  if x.find('week') > -1:\n",
    "    return age // 4\n",
    "  if x.find('day') > -1:\n",
    "    return age // 30\n",
    "  else:\n",
    "    return 0 \n",
    "\n",
    "train_dog['age'] = train_dog.age.apply(age_month)\n",
    "train_cat['age'] = train_cat.age.apply(age_month)\n",
    "test_dog['age'] = test_dog.age.apply(age_month)\n",
    "test_cat['age'] = test_cat.age.apply(age_month)\n",
    "\n",
    "\n",
    "#age in less than 1 month\n",
    "def age_less1month(x):\n",
    "  if x >= 0 and x<= 1:\n",
    "    return 'yes'\n",
    "  else:\n",
    "    return 'no' \n",
    "\n",
    "#age in between 2 years and 10 years\n",
    "def age_2_10(x):\n",
    "  if x >= 24 and x<= 120:\n",
    "    return 'yes'\n",
    "  else:\n",
    "    return 'no' \n",
    "\n",
    "#age in greater than 10 years\n",
    "def age_10plus(x):\n",
    "  if x > 120:\n",
    "    return 'yes'\n",
    "  else:\n",
    "    return 'no' \n",
    "\n",
    "train_dog['less_1month'] = train_dog.age\n",
    "train_dog['less_1month'] = train_dog.less_1month.apply(age_less1month)\n",
    "train_cat['less_1month'] = train_cat.age\n",
    "train_cat['less_1month'] = train_cat.less_1month.apply(age_less1month)\n",
    "\n",
    "test_cat['less_1month'] = test_cat.age\n",
    "test_cat['less_1month'] = test_cat.less_1month.apply(age_less1month)\n",
    "test_dog['less_1month'] = test_dog.age\n",
    "test_dog['less_1month'] = test_dog.less_1month.apply(age_less1month)\n",
    "\n",
    "\n",
    "train_cat['age_2_10'] = train_cat.age\n",
    "train_cat['age_2_10'] = train_cat.age_2_10.apply(age_2_10)\n",
    "train_dog['age_2_10'] = train_dog.age\n",
    "train_dog['age_2_10'] = train_dog.age_2_10.apply(age_2_10)\n",
    "\n",
    "test_cat['age_2_10'] = test_cat.age\n",
    "test_cat['age_2_10'] = test_cat.age_2_10.apply(age_2_10)\n",
    "test_dog['age_2_10'] = test_dog.age\n",
    "test_dog['age_2_10'] = test_dog.age_2_10.apply(age_2_10)\n",
    "\n",
    "train_cat['age_10plus'] = train_cat.age\n",
    "train_cat['age_10plus'] = train_cat.age_10plus.apply(age_10plus)\n",
    "train_dog['age_10plus'] = train_dog.age\n",
    "train_dog['age_10plus'] = train_dog.age_10plus.apply(age_10plus)\n",
    "\n",
    "test_cat['age_10plus'] = test_cat.age\n",
    "test_cat['age_10plus'] = test_cat.age_10plus.apply(age_10plus)\n",
    "test_dog['age_10plus'] = test_dog.age\n",
    "test_dog['age_10plus'] = test_dog.age_10plus.apply(age_10plus)\n",
    "\n",
    "\n",
    "#categorize dog ages wrt dog age scale\n",
    "def age_dog(x):\n",
    "  if x == 0:\n",
    "    return 'unknown'\n",
    "  elif (x>0 and x<7):\n",
    "    return 'new born'\n",
    "  elif (x>6 and x<25):\n",
    "    return 'junior'\n",
    "  elif (x>24 and x<37):\n",
    "    return 'prime'\n",
    "  elif (x>36 and x<73):\n",
    "    return 'mature'\n",
    "  elif (x>72 and x<121):\n",
    "    return 'senior'\n",
    "  elif x>120:\n",
    "    return 'geriatric'\n",
    "\n",
    "\n",
    "#categorize cat ages wrt cat age scale\n",
    "def age_cat(x):\n",
    "  if x == 0:\n",
    "    return 'unknown'\n",
    "  elif (x>0 and x<7):\n",
    "    return 'new born'\n",
    "  elif (x>6 and x<37):\n",
    "    return 'junior'\n",
    "  elif (x>36 and x<85):\n",
    "    return 'prime'\n",
    "  elif (x>84 and x<133):\n",
    "    return 'mature'\n",
    "  elif (x>132 and x<181):\n",
    "    return 'senior'\n",
    "  elif x>180:\n",
    "    return 'geriatric'\n",
    "\n",
    "train_dog['age'] = train_dog.age.apply(age_dog)\n",
    "train_cat['age'] = train_cat.age.apply(age_cat)\n",
    "\n",
    "test_dog['age'] = test_dog.age.apply(age_dog)\n",
    "test_cat['age'] = test_cat.age.apply(age_cat)\n",
    "\n",
    "\n"
   ]
  },
  {
   "cell_type": "code",
   "execution_count": 17,
   "metadata": {
    "execution": {
     "iopub.execute_input": "2020-10-09T15:59:01.207458Z",
     "iopub.status.busy": "2020-10-09T15:59:01.206372Z",
     "iopub.status.idle": "2020-10-09T15:59:01.636942Z",
     "shell.execute_reply": "2020-10-09T15:59:01.637467Z"
    },
    "papermill": {
     "duration": 0.523361,
     "end_time": "2020-10-09T15:59:01.637622",
     "exception": false,
     "start_time": "2020-10-09T15:59:01.114261",
     "status": "completed"
    },
    "tags": []
   },
   "outputs": [
    {
     "data": {
      "text/plain": [
       "<AxesSubplot:xlabel='target', ylabel='count'>"
      ]
     },
     "execution_count": 17,
     "metadata": {},
     "output_type": "execute_result"
    },
    {
     "data": {
      "image/png": "[encoded data removed]",
      "text/plain": [
       "<Figure size 432x288 with 1 Axes>"
      ]
     },
     "metadata": {
      "needs_background": "light"
     },
     "output_type": "display_data"
    }
   ],
   "source": [
    "sns.countplot(data=train_dog, x=train_dog.target, hue=train_dog.age,order=['Adoption','Died','Euthanasia','Return_to_owner','Transfer'])"
   ]
  },
  {
   "cell_type": "code",
   "execution_count": 18,
   "metadata": {
    "execution": {
     "iopub.execute_input": "2020-10-09T15:59:01.799175Z",
     "iopub.status.busy": "2020-10-09T15:59:01.794355Z",
     "iopub.status.idle": "2020-10-09T15:59:02.120414Z",
     "shell.execute_reply": "2020-10-09T15:59:02.119829Z"
    },
    "papermill": {
     "duration": 0.411294,
     "end_time": "2020-10-09T15:59:02.120537",
     "exception": false,
     "start_time": "2020-10-09T15:59:01.709243",
     "status": "completed"
    },
    "tags": []
   },
   "outputs": [
    {
     "data": {
      "text/plain": [
       "<AxesSubplot:xlabel='target', ylabel='count'>"
      ]
     },
     "execution_count": 18,
     "metadata": {},
     "output_type": "execute_result"
    },
    {
     "data": {
      "image/png": "[encoded data removed]",
      "text/plain": [
       "<Figure size 432x288 with 1 Axes>"
      ]
     },
     "metadata": {
      "needs_background": "light"
     },
     "output_type": "display_data"
    }
   ],
   "source": [
    "sns.countplot(data=train_cat, x=train_cat.target, hue=train_cat.age,order=['Adoption','Died','Euthanasia','Return_to_owner','Transfer'])"
   ]
  },
  {
   "cell_type": "markdown",
   "metadata": {
    "papermill": {
     "duration": 0.072758,
     "end_time": "2020-10-09T15:59:02.266872",
     "exception": false,
     "start_time": "2020-10-09T15:59:02.194114",
     "status": "completed"
    },
    "tags": []
   },
   "source": [
    "As we see here age scales have different tendencies for dogs and cats. For example, for adoption outcome while new born is high for cats, junior is high for dogs. Now lets convert these categorical values to numeric values."
   ]
  },
  {
   "cell_type": "code",
   "execution_count": 19,
   "metadata": {
    "execution": {
     "iopub.execute_input": "2020-10-09T15:59:02.450167Z",
     "iopub.status.busy": "2020-10-09T15:59:02.449097Z",
     "iopub.status.idle": "2020-10-09T15:59:02.453451Z",
     "shell.execute_reply": "2020-10-09T15:59:02.454027Z"
    },
    "papermill": {
     "duration": 0.110173,
     "end_time": "2020-10-09T15:59:02.454190",
     "exception": false,
     "start_time": "2020-10-09T15:59:02.344017",
     "status": "completed"
    },
    "tags": []
   },
   "outputs": [
    {
     "data": {
      "text/html": [
       "<div>\n",
       "<style scoped>\n",
       "    .dataframe tbody tr th:only-of-type {\n",
       "        vertical-align: middle;\n",
       "    }\n",
       "\n",
       "    .dataframe tbody tr th {\n",
       "        vertical-align: top;\n",
       "    }\n",
       "\n",
       "    .dataframe thead th {\n",
       "        text-align: right;\n",
       "    }\n",
       "</style>\n",
       "<table border=\"1\" class=\"dataframe\">\n",
       "  <thead>\n",
       "    <tr style=\"text-align: right;\">\n",
       "      <th></th>\n",
       "      <th>ID</th>\n",
       "      <th>name</th>\n",
       "      <th>date</th>\n",
       "      <th>target</th>\n",
       "      <th>subtype</th>\n",
       "      <th>animal</th>\n",
       "      <th>sex</th>\n",
       "      <th>age</th>\n",
       "      <th>breed</th>\n",
       "      <th>color</th>\n",
       "      <th>less_1month</th>\n",
       "      <th>age_2_10</th>\n",
       "      <th>age_10plus</th>\n",
       "    </tr>\n",
       "  </thead>\n",
       "  <tbody>\n",
       "    <tr>\n",
       "      <th>1</th>\n",
       "      <td>A656520</td>\n",
       "      <td>Emily</td>\n",
       "      <td>2013-10-13 12:44:00</td>\n",
       "      <td>Euthanasia</td>\n",
       "      <td>Suffering</td>\n",
       "      <td>Cat</td>\n",
       "      <td>Spayed Female</td>\n",
       "      <td>2</td>\n",
       "      <td>Domestic Shorthair Mix</td>\n",
       "      <td>Cream Tabby</td>\n",
       "      <td>no</td>\n",
       "      <td>no</td>\n",
       "      <td>no</td>\n",
       "    </tr>\n",
       "  </tbody>\n",
       "</table>\n",
       "</div>"
      ],
      "text/plain": [
       "        ID   name                 date      target    subtype animal  \\\n",
       "1  A656520  Emily  2013-10-13 12:44:00  Euthanasia  Suffering    Cat   \n",
       "\n",
       "             sex  age                   breed        color less_1month  \\\n",
       "1  Spayed Female    2  Domestic Shorthair Mix  Cream Tabby          no   \n",
       "\n",
       "  age_2_10 age_10plus  \n",
       "1       no         no  "
      ]
     },
     "execution_count": 19,
     "metadata": {},
     "output_type": "execute_result"
    }
   ],
   "source": [
    "#assign categorical scales to the numbers\n",
    "age_list = {'new born':1, 'junior':2, 'prime':3, 'mature':4, 'senior':5, 'geriatric':6, 'unknown':7 }\n",
    "\n",
    "train_dog['age'] = train_dog.age.map(age_list)\n",
    "train_cat['age'] = train_cat.age.map(age_list)\n",
    "\n",
    "test_dog['age'] = test_dog.age.map(age_list)\n",
    "test_cat['age'] = test_cat.age.map(age_list)\n",
    "\n",
    "train_cat.head(1)"
   ]
  },
  {
   "cell_type": "code",
   "execution_count": 20,
   "metadata": {
    "execution": {
     "iopub.execute_input": "2020-10-09T15:59:02.619961Z",
     "iopub.status.busy": "2020-10-09T15:59:02.618812Z",
     "iopub.status.idle": "2020-10-09T15:59:02.623310Z",
     "shell.execute_reply": "2020-10-09T15:59:02.622693Z"
    },
    "papermill": {
     "duration": 0.095384,
     "end_time": "2020-10-09T15:59:02.623429",
     "exception": false,
     "start_time": "2020-10-09T15:59:02.528045",
     "status": "completed"
    },
    "tags": []
   },
   "outputs": [
    {
     "data": {
      "text/html": [
       "<div>\n",
       "<style scoped>\n",
       "    .dataframe tbody tr th:only-of-type {\n",
       "        vertical-align: middle;\n",
       "    }\n",
       "\n",
       "    .dataframe tbody tr th {\n",
       "        vertical-align: top;\n",
       "    }\n",
       "\n",
       "    .dataframe thead th {\n",
       "        text-align: right;\n",
       "    }\n",
       "</style>\n",
       "<table border=\"1\" class=\"dataframe\">\n",
       "  <thead>\n",
       "    <tr style=\"text-align: right;\">\n",
       "      <th></th>\n",
       "      <th>ID</th>\n",
       "      <th>name</th>\n",
       "      <th>date</th>\n",
       "      <th>target</th>\n",
       "      <th>subtype</th>\n",
       "      <th>animal</th>\n",
       "      <th>sex</th>\n",
       "      <th>age</th>\n",
       "      <th>breed</th>\n",
       "      <th>color</th>\n",
       "      <th>less_1month</th>\n",
       "      <th>age_2_10</th>\n",
       "      <th>age_10plus</th>\n",
       "    </tr>\n",
       "  </thead>\n",
       "  <tbody>\n",
       "    <tr>\n",
       "      <th>0</th>\n",
       "      <td>A671945</td>\n",
       "      <td>Hambone</td>\n",
       "      <td>2014-02-12 18:22:00</td>\n",
       "      <td>Return_to_owner</td>\n",
       "      <td>NaN</td>\n",
       "      <td>Dog</td>\n",
       "      <td>Neutered Male</td>\n",
       "      <td>2</td>\n",
       "      <td>Shetland Sheepdog Mix</td>\n",
       "      <td>Brown/White</td>\n",
       "      <td>no</td>\n",
       "      <td>no</td>\n",
       "      <td>no</td>\n",
       "    </tr>\n",
       "  </tbody>\n",
       "</table>\n",
       "</div>"
      ],
      "text/plain": [
       "        ID     name                 date           target subtype animal  \\\n",
       "0  A671945  Hambone  2014-02-12 18:22:00  Return_to_owner     NaN    Dog   \n",
       "\n",
       "             sex  age                  breed        color less_1month  \\\n",
       "0  Neutered Male    2  Shetland Sheepdog Mix  Brown/White          no   \n",
       "\n",
       "  age_2_10 age_10plus  \n",
       "0       no         no  "
      ]
     },
     "execution_count": 20,
     "metadata": {},
     "output_type": "execute_result"
    }
   ],
   "source": [
    "train_dog.head(1)"
   ]
  },
  {
   "cell_type": "markdown",
   "metadata": {
    "papermill": {
     "duration": 0.074019,
     "end_time": "2020-10-09T15:59:02.772539",
     "exception": false,
     "start_time": "2020-10-09T15:59:02.698520",
     "status": "completed"
    },
    "tags": []
   },
   "source": [
    "For age column, we take the **0-1 month**, **2-10 years** and **10+ years** age periods because for \"died\" and \"euthanasia\" outcomes these periods have critical roles. And convert numerical values for age column with respect to **age scales** of cats and dogs."
   ]
  },
  {
   "cell_type": "markdown",
   "metadata": {
    "papermill": {
     "duration": 0.073883,
     "end_time": "2020-10-09T15:59:02.920960",
     "exception": false,
     "start_time": "2020-10-09T15:59:02.847077",
     "status": "completed"
    },
    "tags": []
   },
   "source": [
    "**BREED**"
   ]
  },
  {
   "cell_type": "code",
   "execution_count": 21,
   "metadata": {
    "execution": {
     "iopub.execute_input": "2020-10-09T15:59:03.087635Z",
     "iopub.status.busy": "2020-10-09T15:59:03.086786Z",
     "iopub.status.idle": "2020-10-09T15:59:03.091680Z",
     "shell.execute_reply": "2020-10-09T15:59:03.091075Z"
    },
    "papermill": {
     "duration": 0.095449,
     "end_time": "2020-10-09T15:59:03.091799",
     "exception": false,
     "start_time": "2020-10-09T15:59:02.996350",
     "status": "completed"
    },
    "tags": []
   },
   "outputs": [
    {
     "data": {
      "text/plain": [
       "Domestic Shorthair Mix          8810\n",
       "Pit Bull Mix                    1906\n",
       "Chihuahua Shorthair Mix         1766\n",
       "Labrador Retriever Mix          1363\n",
       "Domestic Medium Hair Mix         839\n",
       "                                ... \n",
       "Boxer/German Shepherd              1\n",
       "Australian Shepherd/Pit Bull       1\n",
       "Border Terrier                     1\n",
       "Pit Bull/Chow Chow                 1\n",
       "Black Mouth Cur/Basset Hound       1\n",
       "Name: breed, Length: 1380, dtype: int64"
      ]
     },
     "execution_count": 21,
     "metadata": {},
     "output_type": "execute_result"
    }
   ],
   "source": [
    "train.breed.value_counts()"
   ]
  },
  {
   "cell_type": "code",
   "execution_count": 22,
   "metadata": {
    "execution": {
     "iopub.execute_input": "2020-10-09T15:59:03.328825Z",
     "iopub.status.busy": "2020-10-09T15:59:03.319209Z",
     "iopub.status.idle": "2020-10-09T15:59:03.624399Z",
     "shell.execute_reply": "2020-10-09T15:59:03.623596Z"
    },
    "papermill": {
     "duration": 0.456426,
     "end_time": "2020-10-09T15:59:03.624526",
     "exception": false,
     "start_time": "2020-10-09T15:59:03.168100",
     "status": "completed"
    },
    "tags": []
   },
   "outputs": [
    {
     "data": {
      "text/html": [
       "<div>\n",
       "<style scoped>\n",
       "    .dataframe tbody tr th:only-of-type {\n",
       "        vertical-align: middle;\n",
       "    }\n",
       "\n",
       "    .dataframe tbody tr th {\n",
       "        vertical-align: top;\n",
       "    }\n",
       "\n",
       "    .dataframe thead th {\n",
       "        text-align: right;\n",
       "    }\n",
       "</style>\n",
       "<table border=\"1\" class=\"dataframe\">\n",
       "  <thead>\n",
       "    <tr style=\"text-align: right;\">\n",
       "      <th></th>\n",
       "      <th>ID</th>\n",
       "      <th>name</th>\n",
       "      <th>date</th>\n",
       "      <th>target</th>\n",
       "      <th>subtype</th>\n",
       "      <th>animal</th>\n",
       "      <th>sex</th>\n",
       "      <th>age</th>\n",
       "      <th>breed</th>\n",
       "      <th>color</th>\n",
       "      <th>less_1month</th>\n",
       "      <th>age_2_10</th>\n",
       "      <th>age_10plus</th>\n",
       "      <th>hairgroup</th>\n",
       "      <th>mix</th>\n",
       "    </tr>\n",
       "  </thead>\n",
       "  <tbody>\n",
       "    <tr>\n",
       "      <th>1</th>\n",
       "      <td>A656520</td>\n",
       "      <td>Emily</td>\n",
       "      <td>2013-10-13 12:44:00</td>\n",
       "      <td>Euthanasia</td>\n",
       "      <td>Suffering</td>\n",
       "      <td>Cat</td>\n",
       "      <td>Spayed Female</td>\n",
       "      <td>2</td>\n",
       "      <td>other</td>\n",
       "      <td>Cream Tabby</td>\n",
       "      <td>no</td>\n",
       "      <td>no</td>\n",
       "      <td>no</td>\n",
       "      <td>0</td>\n",
       "      <td>0</td>\n",
       "    </tr>\n",
       "  </tbody>\n",
       "</table>\n",
       "</div>"
      ],
      "text/plain": [
       "        ID   name                 date      target    subtype animal  \\\n",
       "1  A656520  Emily  2013-10-13 12:44:00  Euthanasia  Suffering    Cat   \n",
       "\n",
       "             sex  age  breed        color less_1month age_2_10 age_10plus  \\\n",
       "1  Spayed Female    2  other  Cream Tabby          no       no         no   \n",
       "\n",
       "   hairgroup  mix  \n",
       "1          0    0  "
      ]
     },
     "execution_count": 22,
     "metadata": {},
     "output_type": "execute_result"
    }
   ],
   "source": [
    "#agrressive dog breeds (appliying only dogs dataset)\n",
    "def aggressive(breed):\n",
    "\t\tif breed.find(\"Pit Bull\") != -1:\n",
    "\t\t\treturn 1\n",
    "\t\telif breed.find(\"Rottweiler\") != -1:\n",
    "\t\t\treturn 2\n",
    "\t\telif breed.find(\"Husky\") != -1:\n",
    "\t\t\treturn 3\n",
    "\t\telif breed.find(\"Shepherd\") != -1:\n",
    "\t\t\treturn 4\n",
    "\t\telif breed.find(\"Malamute\") != -1:\n",
    "\t\t\treturn 5\n",
    "\t\telif breed.find(\"Doberman\") != -1:\n",
    "\t\t\treturn 6\n",
    "\t\telif breed.find(\"Chow\") != -1:\n",
    "\t\t\treturn 7\n",
    "\t\telif breed.find(\"Dane\") != -1:\n",
    "\t\t\treturn 8\n",
    "\t\telif breed.find(\"Boxer\") != -1:\n",
    "\t\t\treturn 9\n",
    "\t\telif breed.find(\"Akita\") != -1:\n",
    "\t\t\treturn 10\n",
    "\t\telse:\n",
    "\t\t\treturn 11\n",
    "    \n",
    "train_dog[\"aggresive\"] = train_dog[\"breed\"].apply(aggressive)\n",
    "test_dog[\"aggresive\"] = test_dog[\"breed\"].apply(aggressive)\n",
    "\n",
    "\n",
    "#allergic dog breeds (appliying only dogs dataset)\n",
    "def allergic(breed):\n",
    "\t\tif breed.find(\"Akita\") != -1:\n",
    "\t\t\treturn 1\n",
    "\t\telif breed.find(\"Malamute\") != -1:\n",
    "\t\t\treturn 2\n",
    "\t\telif breed.find(\"Eskimo\") != -1:\n",
    "\t\t\treturn 3\n",
    "\t\telif breed.find(\"Corgi\") != -1:\n",
    "\t\t\treturn 4\n",
    "\t\telif breed.find(\"Chow\") != -1:\n",
    "\t\t\treturn 5\n",
    "\t\telif breed.find(\"Shepherd\") != -1:\n",
    "\t\t\treturn 6\n",
    "\t\telif breed.find(\"Pyrenees\") != -1:\n",
    "\t\t\treturn 7\n",
    "\t\telif breed.find(\"Labrador\") != -1:\n",
    "\t\t\treturn 8\n",
    "\t\telif breed.find(\"Retriever\") != -1:\n",
    "\t\t\treturn 9\n",
    "\t\telif breed.find(\"Husky\") != -1:\n",
    "\t\t\treturn 10\n",
    "\t\telse:\n",
    "\t\t\treturn 11\n",
    "    \n",
    "train_dog[\"allergic\"] = train_dog[\"breed\"].apply(allergic)\n",
    "test_dog[\"allergic\"] = test_dog[\"breed\"].apply(allergic)\n",
    "\n",
    "\n",
    "#hair group classification\n",
    "def hair_group(breed):\n",
    "\t\tif breed.find(\"Shorthair\") != -1:\n",
    "\t\t\treturn 0\n",
    "\t\telif breed.find(\"Longhair\") != -1:\n",
    "\t\t\treturn 1\n",
    "\t\telse:\n",
    "\t\t\treturn 2\n",
    "\n",
    "train_cat[\"hairgroup\"] = train_cat[\"breed\"].apply(hair_group)\n",
    "train_dog[\"hairgroup\"] = train_dog[\"breed\"].apply(hair_group)\n",
    "\n",
    "test_cat[\"hairgroup\"] = test_cat[\"breed\"].apply(hair_group)\n",
    "test_dog[\"hairgroup\"] = test_dog[\"breed\"].apply(hair_group)\n",
    "\n",
    "\n",
    "\n",
    "#breed group classification - mix breed / or not\n",
    "def breed_group(breed_input):\n",
    "\t\tbreed = str(breed_input)\n",
    "\t\tif (' ' in breed) == False:\n",
    "\t\t\tbr =  breed \n",
    "\t\telse:\n",
    "\t\t\tbreed_list = breed.split()\n",
    "\t\t\ttry:\n",
    "\t\t\t\tbr = breed_list[2] \n",
    "\t\t\texcept:\n",
    "\t\t\t\tbr = breed_list[1] \n",
    "\t\tif (br == \"Mix\"):\n",
    "\t\t\treturn 0\n",
    "\t\telse:\n",
    "\t\t\treturn 1\n",
    "\t\treturn 1\n",
    "\n",
    "train_dog[\"mix\"] = train_dog[\"breed\"].apply(breed_group)\n",
    "train_cat[\"mix\"] = train_cat[\"breed\"].apply(breed_group)\n",
    "\n",
    "test_cat[\"mix\"] = test_cat[\"breed\"].apply(breed_group)\n",
    "test_dog[\"mix\"] = test_dog[\"breed\"].apply(breed_group)\n",
    "\n",
    "\n",
    "\n",
    "#top dog and cat breeds \n",
    "dog_max = ['Pit Bull','Chihuahua Shorthair','Labrador Retriever','German Shepherd','Australian Cattle Dog','Dachshund','Boxer','Miniature Poodle','Border Collie','Australian Shepherd','Rat Terrier','Siberian Husky','Yorkshire Terrier','Catahoula','Jack Russell Terrier','Miniature Schnauzer','Shih Tzu','Rottweiler','Chihuahua Longhair','Beagle','American Bulldog','Cairn Terrier','American Staffordshire Terrier','Staffordshire','Australian Kelpie','Great Pyrenees']\n",
    "cat_max = ['Domestic Shorthair','Domestic Medium Hair','Domestic Longhair','Siamese']\n",
    "\n",
    "\n",
    "def dog_breed(x):\n",
    "\t\tx = str(x)\n",
    "\t\tif x in dog_max:\n",
    "\t\t\treturn x\n",
    "\t\telse:\n",
    "\t\t\treturn 'other'            \n",
    "\n",
    "train_dog['breed'] = train_dog.breed.apply(dog_breed)\n",
    "test_dog['breed'] = test_dog.breed.apply(dog_breed)\n",
    "\n",
    "\n",
    "def cat_breed(x):\n",
    "\t\tx = str(x)\n",
    "\t\tif x in cat_max:\n",
    "\t\t\treturn x\n",
    "\t\telse:\n",
    "\t\t\treturn 'other'\n",
    "\n",
    "train_cat['breed'] = train_cat.breed.apply(cat_breed)\n",
    "test_cat['breed'] = test_cat.breed.apply(cat_breed)\n",
    "\n",
    "train_cat.head(1)"
   ]
  },
  {
   "cell_type": "code",
   "execution_count": 23,
   "metadata": {
    "execution": {
     "iopub.execute_input": "2020-10-09T15:59:03.796482Z",
     "iopub.status.busy": "2020-10-09T15:59:03.795585Z",
     "iopub.status.idle": "2020-10-09T15:59:03.800816Z",
     "shell.execute_reply": "2020-10-09T15:59:03.800174Z"
    },
    "papermill": {
     "duration": 0.100116,
     "end_time": "2020-10-09T15:59:03.800983",
     "exception": false,
     "start_time": "2020-10-09T15:59:03.700867",
     "status": "completed"
    },
    "tags": []
   },
   "outputs": [
    {
     "data": {
      "text/html": [
       "<div>\n",
       "<style scoped>\n",
       "    .dataframe tbody tr th:only-of-type {\n",
       "        vertical-align: middle;\n",
       "    }\n",
       "\n",
       "    .dataframe tbody tr th {\n",
       "        vertical-align: top;\n",
       "    }\n",
       "\n",
       "    .dataframe thead th {\n",
       "        text-align: right;\n",
       "    }\n",
       "</style>\n",
       "<table border=\"1\" class=\"dataframe\">\n",
       "  <thead>\n",
       "    <tr style=\"text-align: right;\">\n",
       "      <th></th>\n",
       "      <th>ID</th>\n",
       "      <th>name</th>\n",
       "      <th>date</th>\n",
       "      <th>target</th>\n",
       "      <th>subtype</th>\n",
       "      <th>animal</th>\n",
       "      <th>sex</th>\n",
       "      <th>age</th>\n",
       "      <th>breed</th>\n",
       "      <th>color</th>\n",
       "      <th>less_1month</th>\n",
       "      <th>age_2_10</th>\n",
       "      <th>age_10plus</th>\n",
       "      <th>aggresive</th>\n",
       "      <th>allergic</th>\n",
       "      <th>hairgroup</th>\n",
       "      <th>mix</th>\n",
       "    </tr>\n",
       "  </thead>\n",
       "  <tbody>\n",
       "    <tr>\n",
       "      <th>0</th>\n",
       "      <td>A671945</td>\n",
       "      <td>Hambone</td>\n",
       "      <td>2014-02-12 18:22:00</td>\n",
       "      <td>Return_to_owner</td>\n",
       "      <td>NaN</td>\n",
       "      <td>Dog</td>\n",
       "      <td>Neutered Male</td>\n",
       "      <td>2</td>\n",
       "      <td>other</td>\n",
       "      <td>Brown/White</td>\n",
       "      <td>no</td>\n",
       "      <td>no</td>\n",
       "      <td>no</td>\n",
       "      <td>11</td>\n",
       "      <td>11</td>\n",
       "      <td>2</td>\n",
       "      <td>0</td>\n",
       "    </tr>\n",
       "  </tbody>\n",
       "</table>\n",
       "</div>"
      ],
      "text/plain": [
       "        ID     name                 date           target subtype animal  \\\n",
       "0  A671945  Hambone  2014-02-12 18:22:00  Return_to_owner     NaN    Dog   \n",
       "\n",
       "             sex  age  breed        color less_1month age_2_10 age_10plus  \\\n",
       "0  Neutered Male    2  other  Brown/White          no       no         no   \n",
       "\n",
       "   aggresive  allergic  hairgroup  mix  \n",
       "0         11        11          2    0  "
      ]
     },
     "execution_count": 23,
     "metadata": {},
     "output_type": "execute_result"
    }
   ],
   "source": [
    "train_dog.head(1)"
   ]
  },
  {
   "cell_type": "markdown",
   "metadata": {
    "papermill": {
     "duration": 0.076735,
     "end_time": "2020-10-09T15:59:03.954192",
     "exception": false,
     "start_time": "2020-10-09T15:59:03.877457",
     "status": "completed"
    },
    "tags": []
   },
   "source": [
    "For breed column, we take **\"aggressive\"** and **\"allergic\"** features for dogs. Also for both animals we take **\"hairgroup\"** feature which includes long hair/short hair/other. And we check the breeds mix or not and convert it into **\"mix\"** column. And finally, we determine the most **popular breeds** for both and convert them into this."
   ]
  },
  {
   "cell_type": "markdown",
   "metadata": {
    "papermill": {
     "duration": 0.076237,
     "end_time": "2020-10-09T15:59:04.108031",
     "exception": false,
     "start_time": "2020-10-09T15:59:04.031794",
     "status": "completed"
    },
    "tags": []
   },
   "source": [
    "**COLOR**"
   ]
  },
  {
   "cell_type": "code",
   "execution_count": 24,
   "metadata": {
    "execution": {
     "iopub.execute_input": "2020-10-09T15:59:04.280847Z",
     "iopub.status.busy": "2020-10-09T15:59:04.279713Z",
     "iopub.status.idle": "2020-10-09T15:59:04.284345Z",
     "shell.execute_reply": "2020-10-09T15:59:04.283751Z"
    },
    "papermill": {
     "duration": 0.099269,
     "end_time": "2020-10-09T15:59:04.284477",
     "exception": false,
     "start_time": "2020-10-09T15:59:04.185208",
     "status": "completed"
    },
    "tags": []
   },
   "outputs": [
    {
     "data": {
      "text/plain": [
       "Black/White               2824\n",
       "Black                     2292\n",
       "Brown Tabby               1635\n",
       "Brown Tabby/White          940\n",
       "White                      931\n",
       "                          ... \n",
       "Brown Tabby/Gray Tabby       1\n",
       "Yellow/Yellow                1\n",
       "Red Tick/Brown Merle         1\n",
       "Torbie/Calico                1\n",
       "Chocolate/Cream              1\n",
       "Name: color, Length: 366, dtype: int64"
      ]
     },
     "execution_count": 24,
     "metadata": {},
     "output_type": "execute_result"
    }
   ],
   "source": [
    "train.color.value_counts()"
   ]
  },
  {
   "cell_type": "code",
   "execution_count": 25,
   "metadata": {
    "execution": {
     "iopub.execute_input": "2020-10-09T15:59:04.460544Z",
     "iopub.status.busy": "2020-10-09T15:59:04.448218Z",
     "iopub.status.idle": "2020-10-09T15:59:04.591670Z",
     "shell.execute_reply": "2020-10-09T15:59:04.591053Z"
    },
    "papermill": {
     "duration": 0.229907,
     "end_time": "2020-10-09T15:59:04.591808",
     "exception": false,
     "start_time": "2020-10-09T15:59:04.361901",
     "status": "completed"
    },
    "tags": []
   },
   "outputs": [
    {
     "data": {
      "text/html": [
       "<div>\n",
       "<style scoped>\n",
       "    .dataframe tbody tr th:only-of-type {\n",
       "        vertical-align: middle;\n",
       "    }\n",
       "\n",
       "    .dataframe tbody tr th {\n",
       "        vertical-align: top;\n",
       "    }\n",
       "\n",
       "    .dataframe thead th {\n",
       "        text-align: right;\n",
       "    }\n",
       "</style>\n",
       "<table border=\"1\" class=\"dataframe\">\n",
       "  <thead>\n",
       "    <tr style=\"text-align: right;\">\n",
       "      <th></th>\n",
       "      <th>ID</th>\n",
       "      <th>name</th>\n",
       "      <th>date</th>\n",
       "      <th>target</th>\n",
       "      <th>subtype</th>\n",
       "      <th>animal</th>\n",
       "      <th>sex</th>\n",
       "      <th>age</th>\n",
       "      <th>breed</th>\n",
       "      <th>color</th>\n",
       "      <th>less_1month</th>\n",
       "      <th>age_2_10</th>\n",
       "      <th>age_10plus</th>\n",
       "      <th>hairgroup</th>\n",
       "      <th>mix</th>\n",
       "      <th>IsSolidColor</th>\n",
       "    </tr>\n",
       "  </thead>\n",
       "  <tbody>\n",
       "    <tr>\n",
       "      <th>1</th>\n",
       "      <td>A656520</td>\n",
       "      <td>Emily</td>\n",
       "      <td>2013-10-13 12:44:00</td>\n",
       "      <td>Euthanasia</td>\n",
       "      <td>Suffering</td>\n",
       "      <td>Cat</td>\n",
       "      <td>Spayed Female</td>\n",
       "      <td>2</td>\n",
       "      <td>other</td>\n",
       "      <td>19</td>\n",
       "      <td>no</td>\n",
       "      <td>no</td>\n",
       "      <td>no</td>\n",
       "      <td>0</td>\n",
       "      <td>0</td>\n",
       "      <td>1</td>\n",
       "    </tr>\n",
       "  </tbody>\n",
       "</table>\n",
       "</div>"
      ],
      "text/plain": [
       "        ID   name                 date      target    subtype animal  \\\n",
       "1  A656520  Emily  2013-10-13 12:44:00  Euthanasia  Suffering    Cat   \n",
       "\n",
       "             sex  age  breed  color less_1month age_2_10 age_10plus  \\\n",
       "1  Spayed Female    2  other     19          no       no         no   \n",
       "\n",
       "   hairgroup  mix  IsSolidColor  \n",
       "1          0    0             1  "
      ]
     },
     "execution_count": 25,
     "metadata": {},
     "output_type": "execute_result"
    }
   ],
   "source": [
    "#extract color in terms or solid or not\n",
    "def extract_color(df):\n",
    "    df['IsSolidColor'] = 1\n",
    "    mixed_entries = df['color'].str.contains(r'\\/')\n",
    "    df.loc[mixed_entries, 'IsSolidColor'] = 0\n",
    "    df['color'] = df['color'].str.replace('\\/.*', '')\n",
    "    return df\n",
    "\n",
    "train_cat = extract_color(train_cat)\n",
    "train_dog = extract_color(train_dog)\n",
    "\n",
    "test_cat = extract_color(test_cat)\n",
    "test_dog = extract_color(test_dog)\n",
    "\n",
    "\n",
    "#label encoding for cat colors\n",
    "le_color = preprocessing.LabelEncoder()\n",
    "train_cat.color = le_color.fit_transform(train_cat.color)\n",
    "test_cat.color = le_color.fit_transform(test_cat.color)\n",
    "\n",
    "#label encoding for cat colors\n",
    "le_color = preprocessing.LabelEncoder()\n",
    "train_dog.color = le_color.fit_transform(train_dog.color)\n",
    "test_dog.color = le_color.fit_transform(test_dog.color)\n",
    "\n",
    "train_cat.head(1) "
   ]
  },
  {
   "cell_type": "code",
   "execution_count": 26,
   "metadata": {
    "execution": {
     "iopub.execute_input": "2020-10-09T15:59:04.771280Z",
     "iopub.status.busy": "2020-10-09T15:59:04.770389Z",
     "iopub.status.idle": "2020-10-09T15:59:04.775349Z",
     "shell.execute_reply": "2020-10-09T15:59:04.774639Z"
    },
    "papermill": {
     "duration": 0.104044,
     "end_time": "2020-10-09T15:59:04.775484",
     "exception": false,
     "start_time": "2020-10-09T15:59:04.671440",
     "status": "completed"
    },
    "tags": []
   },
   "outputs": [
    {
     "data": {
      "text/html": [
       "<div>\n",
       "<style scoped>\n",
       "    .dataframe tbody tr th:only-of-type {\n",
       "        vertical-align: middle;\n",
       "    }\n",
       "\n",
       "    .dataframe tbody tr th {\n",
       "        vertical-align: top;\n",
       "    }\n",
       "\n",
       "    .dataframe thead th {\n",
       "        text-align: right;\n",
       "    }\n",
       "</style>\n",
       "<table border=\"1\" class=\"dataframe\">\n",
       "  <thead>\n",
       "    <tr style=\"text-align: right;\">\n",
       "      <th></th>\n",
       "      <th>ID</th>\n",
       "      <th>name</th>\n",
       "      <th>date</th>\n",
       "      <th>target</th>\n",
       "      <th>subtype</th>\n",
       "      <th>animal</th>\n",
       "      <th>sex</th>\n",
       "      <th>age</th>\n",
       "      <th>breed</th>\n",
       "      <th>color</th>\n",
       "      <th>less_1month</th>\n",
       "      <th>age_2_10</th>\n",
       "      <th>age_10plus</th>\n",
       "      <th>aggresive</th>\n",
       "      <th>allergic</th>\n",
       "      <th>hairgroup</th>\n",
       "      <th>mix</th>\n",
       "      <th>IsSolidColor</th>\n",
       "    </tr>\n",
       "  </thead>\n",
       "  <tbody>\n",
       "    <tr>\n",
       "      <th>0</th>\n",
       "      <td>A671945</td>\n",
       "      <td>Hambone</td>\n",
       "      <td>2014-02-12 18:22:00</td>\n",
       "      <td>Return_to_owner</td>\n",
       "      <td>NaN</td>\n",
       "      <td>Dog</td>\n",
       "      <td>Neutered Male</td>\n",
       "      <td>2</td>\n",
       "      <td>other</td>\n",
       "      <td>11</td>\n",
       "      <td>no</td>\n",
       "      <td>no</td>\n",
       "      <td>no</td>\n",
       "      <td>11</td>\n",
       "      <td>11</td>\n",
       "      <td>2</td>\n",
       "      <td>0</td>\n",
       "      <td>0</td>\n",
       "    </tr>\n",
       "  </tbody>\n",
       "</table>\n",
       "</div>"
      ],
      "text/plain": [
       "        ID     name                 date           target subtype animal  \\\n",
       "0  A671945  Hambone  2014-02-12 18:22:00  Return_to_owner     NaN    Dog   \n",
       "\n",
       "             sex  age  breed  color less_1month age_2_10 age_10plus  \\\n",
       "0  Neutered Male    2  other     11          no       no         no   \n",
       "\n",
       "   aggresive  allergic  hairgroup  mix  IsSolidColor  \n",
       "0         11        11          2    0             0  "
      ]
     },
     "execution_count": 26,
     "metadata": {},
     "output_type": "execute_result"
    }
   ],
   "source": [
    "train_dog.head(1)"
   ]
  },
  {
   "cell_type": "markdown",
   "metadata": {
    "papermill": {
     "duration": 0.079865,
     "end_time": "2020-10-09T15:59:04.935766",
     "exception": false,
     "start_time": "2020-10-09T15:59:04.855901",
     "status": "completed"
    },
    "tags": []
   },
   "source": [
    "For **color** feature, we take **\"IsSolidColor\"** with respect to feature is contains 1 color or more. And do **label encoding** for color column."
   ]
  },
  {
   "cell_type": "markdown",
   "metadata": {
    "papermill": {
     "duration": 0.080058,
     "end_time": "2020-10-09T15:59:05.097553",
     "exception": false,
     "start_time": "2020-10-09T15:59:05.017495",
     "status": "completed"
    },
    "tags": []
   },
   "source": [
    "**SEX**"
   ]
  },
  {
   "cell_type": "code",
   "execution_count": 27,
   "metadata": {
    "execution": {
     "iopub.execute_input": "2020-10-09T15:59:05.349483Z",
     "iopub.status.busy": "2020-10-09T15:59:05.271977Z",
     "iopub.status.idle": "2020-10-09T15:59:05.401320Z",
     "shell.execute_reply": "2020-10-09T15:59:05.400741Z"
    },
    "papermill": {
     "duration": 0.223235,
     "end_time": "2020-10-09T15:59:05.401445",
     "exception": false,
     "start_time": "2020-10-09T15:59:05.178210",
     "status": "completed"
    },
    "tags": []
   },
   "outputs": [
    {
     "data": {
      "text/html": [
       "<div>\n",
       "<style scoped>\n",
       "    .dataframe tbody tr th:only-of-type {\n",
       "        vertical-align: middle;\n",
       "    }\n",
       "\n",
       "    .dataframe tbody tr th {\n",
       "        vertical-align: top;\n",
       "    }\n",
       "\n",
       "    .dataframe thead th {\n",
       "        text-align: right;\n",
       "    }\n",
       "</style>\n",
       "<table border=\"1\" class=\"dataframe\">\n",
       "  <thead>\n",
       "    <tr style=\"text-align: right;\">\n",
       "      <th></th>\n",
       "      <th>ID</th>\n",
       "      <th>name</th>\n",
       "      <th>date</th>\n",
       "      <th>target</th>\n",
       "      <th>subtype</th>\n",
       "      <th>animal</th>\n",
       "      <th>sex</th>\n",
       "      <th>age</th>\n",
       "      <th>breed</th>\n",
       "      <th>color</th>\n",
       "      <th>less_1month</th>\n",
       "      <th>age_2_10</th>\n",
       "      <th>age_10plus</th>\n",
       "      <th>hairgroup</th>\n",
       "      <th>mix</th>\n",
       "      <th>IsSolidColor</th>\n",
       "      <th>virginity</th>\n",
       "      <th>sex_</th>\n",
       "    </tr>\n",
       "  </thead>\n",
       "  <tbody>\n",
       "    <tr>\n",
       "      <th>1</th>\n",
       "      <td>A656520</td>\n",
       "      <td>Emily</td>\n",
       "      <td>2013-10-13 12:44:00</td>\n",
       "      <td>Euthanasia</td>\n",
       "      <td>Suffering</td>\n",
       "      <td>Cat</td>\n",
       "      <td>Spayed Female</td>\n",
       "      <td>2</td>\n",
       "      <td>other</td>\n",
       "      <td>19</td>\n",
       "      <td>no</td>\n",
       "      <td>no</td>\n",
       "      <td>no</td>\n",
       "      <td>0</td>\n",
       "      <td>0</td>\n",
       "      <td>1</td>\n",
       "      <td>1</td>\n",
       "      <td>2</td>\n",
       "    </tr>\n",
       "  </tbody>\n",
       "</table>\n",
       "</div>"
      ],
      "text/plain": [
       "        ID   name                 date      target    subtype animal  \\\n",
       "1  A656520  Emily  2013-10-13 12:44:00  Euthanasia  Suffering    Cat   \n",
       "\n",
       "             sex  age  breed  color less_1month age_2_10 age_10plus  \\\n",
       "1  Spayed Female    2  other     19          no       no         no   \n",
       "\n",
       "   hairgroup  mix  IsSolidColor  virginity  sex_  \n",
       "1          0    0             1          1     2  "
      ]
     },
     "execution_count": 27,
     "metadata": {},
     "output_type": "execute_result"
    }
   ],
   "source": [
    "#filling null values\n",
    "train_dog.sex.fillna('Unknown', inplace=True)\n",
    "\n",
    "#categorize for infertility\n",
    "def intact_group(sex):\n",
    "\t\ttry:\n",
    "\t\t\tintact_type = sex.split()\n",
    "\t\texcept:\n",
    "\t\t\treturn 0\n",
    "\t\tif intact_type[0] == \"Neutered\" or intact_type[0] ==  \"Spayed\":\t\t\n",
    "\t\t\treturn 1\n",
    "\t\telif intact_type[0] == \"Intact\":\n",
    "\t\t\treturn 2\n",
    "\t\telse:\n",
    "\t\t\treturn 0\n",
    "\n",
    "train_cat[\"virginity\"] = train_cat[\"sex\"].apply(intact_group)\n",
    "train_dog[\"virginity\"] = train_dog[\"sex\"].apply(intact_group)\n",
    "\n",
    "test_cat[\"virginity\"] = test_cat[\"sex\"].apply(intact_group)\n",
    "test_dog[\"virginity\"] = test_dog[\"sex\"].apply(intact_group)\n",
    "\n",
    "\n",
    "#categorize for male/female\n",
    "def sex_group(sexs):\n",
    "\t\ttry:\n",
    "\t\t\tsex_type = sexs.split()\n",
    "\t\texcept:\n",
    "\t\t\treturn 0\n",
    "\t\t#categorize\n",
    "\t\tif sex_type[0] == \"Unknown\":\n",
    "\t\t\treturn 0\n",
    "\t\telif sex_type[1] == \"Male\":\n",
    "\t\t\treturn 1\n",
    "\t\telif sex_type[1] == \"Female\":\n",
    "\t\t\treturn 2\n",
    "\t\telse:\n",
    "\t\t\treturn 0\n",
    "        \n",
    "train_cat[\"sex_\"] = train_cat[\"sex\"].apply(sex_group)\n",
    "train_dog[\"sex_\"] = train_dog[\"sex\"].apply(sex_group)\n",
    "\n",
    "test_cat[\"sex_\"] = test_cat[\"sex\"].apply(sex_group)\n",
    "test_dog[\"sex_\"] = test_dog[\"sex\"].apply(sex_group)\n",
    "\n",
    "train_cat.head(1)"
   ]
  },
  {
   "cell_type": "code",
   "execution_count": 28,
   "metadata": {
    "execution": {
     "iopub.execute_input": "2020-10-09T15:59:05.582395Z",
     "iopub.status.busy": "2020-10-09T15:59:05.581472Z",
     "iopub.status.idle": "2020-10-09T15:59:05.586800Z",
     "shell.execute_reply": "2020-10-09T15:59:05.586062Z"
    },
    "papermill": {
     "duration": 0.105624,
     "end_time": "2020-10-09T15:59:05.586927",
     "exception": false,
     "start_time": "2020-10-09T15:59:05.481303",
     "status": "completed"
    },
    "tags": []
   },
   "outputs": [
    {
     "data": {
      "text/html": [
       "<div>\n",
       "<style scoped>\n",
       "    .dataframe tbody tr th:only-of-type {\n",
       "        vertical-align: middle;\n",
       "    }\n",
       "\n",
       "    .dataframe tbody tr th {\n",
       "        vertical-align: top;\n",
       "    }\n",
       "\n",
       "    .dataframe thead th {\n",
       "        text-align: right;\n",
       "    }\n",
       "</style>\n",
       "<table border=\"1\" class=\"dataframe\">\n",
       "  <thead>\n",
       "    <tr style=\"text-align: right;\">\n",
       "      <th></th>\n",
       "      <th>ID</th>\n",
       "      <th>name</th>\n",
       "      <th>date</th>\n",
       "      <th>target</th>\n",
       "      <th>subtype</th>\n",
       "      <th>animal</th>\n",
       "      <th>sex</th>\n",
       "      <th>age</th>\n",
       "      <th>breed</th>\n",
       "      <th>color</th>\n",
       "      <th>less_1month</th>\n",
       "      <th>age_2_10</th>\n",
       "      <th>age_10plus</th>\n",
       "      <th>aggresive</th>\n",
       "      <th>allergic</th>\n",
       "      <th>hairgroup</th>\n",
       "      <th>mix</th>\n",
       "      <th>IsSolidColor</th>\n",
       "      <th>virginity</th>\n",
       "      <th>sex_</th>\n",
       "    </tr>\n",
       "  </thead>\n",
       "  <tbody>\n",
       "    <tr>\n",
       "      <th>0</th>\n",
       "      <td>A671945</td>\n",
       "      <td>Hambone</td>\n",
       "      <td>2014-02-12 18:22:00</td>\n",
       "      <td>Return_to_owner</td>\n",
       "      <td>NaN</td>\n",
       "      <td>Dog</td>\n",
       "      <td>Neutered Male</td>\n",
       "      <td>2</td>\n",
       "      <td>other</td>\n",
       "      <td>11</td>\n",
       "      <td>no</td>\n",
       "      <td>no</td>\n",
       "      <td>no</td>\n",
       "      <td>11</td>\n",
       "      <td>11</td>\n",
       "      <td>2</td>\n",
       "      <td>0</td>\n",
       "      <td>0</td>\n",
       "      <td>1</td>\n",
       "      <td>1</td>\n",
       "    </tr>\n",
       "  </tbody>\n",
       "</table>\n",
       "</div>"
      ],
      "text/plain": [
       "        ID     name                 date           target subtype animal  \\\n",
       "0  A671945  Hambone  2014-02-12 18:22:00  Return_to_owner     NaN    Dog   \n",
       "\n",
       "             sex  age  breed  color less_1month age_2_10 age_10plus  \\\n",
       "0  Neutered Male    2  other     11          no       no         no   \n",
       "\n",
       "   aggresive  allergic  hairgroup  mix  IsSolidColor  virginity  sex_  \n",
       "0         11        11          2    0             0          1     1  "
      ]
     },
     "execution_count": 28,
     "metadata": {},
     "output_type": "execute_result"
    }
   ],
   "source": [
    "train_dog.head(1)"
   ]
  },
  {
   "cell_type": "markdown",
   "metadata": {
    "papermill": {
     "duration": 0.080341,
     "end_time": "2020-10-09T15:59:05.748718",
     "exception": false,
     "start_time": "2020-10-09T15:59:05.668377",
     "status": "completed"
    },
    "tags": []
   },
   "source": [
    "**NAME**"
   ]
  },
  {
   "cell_type": "code",
   "execution_count": 29,
   "metadata": {
    "execution": {
     "iopub.execute_input": "2020-10-09T15:59:05.928634Z",
     "iopub.status.busy": "2020-10-09T15:59:05.927811Z",
     "iopub.status.idle": "2020-10-09T15:59:05.986234Z",
     "shell.execute_reply": "2020-10-09T15:59:05.985479Z"
    },
    "papermill": {
     "duration": 0.156445,
     "end_time": "2020-10-09T15:59:05.986359",
     "exception": false,
     "start_time": "2020-10-09T15:59:05.829914",
     "status": "completed"
    },
    "tags": []
   },
   "outputs": [
    {
     "data": {
      "text/html": [
       "<div>\n",
       "<style scoped>\n",
       "    .dataframe tbody tr th:only-of-type {\n",
       "        vertical-align: middle;\n",
       "    }\n",
       "\n",
       "    .dataframe tbody tr th {\n",
       "        vertical-align: top;\n",
       "    }\n",
       "\n",
       "    .dataframe thead th {\n",
       "        text-align: right;\n",
       "    }\n",
       "</style>\n",
       "<table border=\"1\" class=\"dataframe\">\n",
       "  <thead>\n",
       "    <tr style=\"text-align: right;\">\n",
       "      <th></th>\n",
       "      <th>ID</th>\n",
       "      <th>name</th>\n",
       "      <th>date</th>\n",
       "      <th>target</th>\n",
       "      <th>subtype</th>\n",
       "      <th>animal</th>\n",
       "      <th>sex</th>\n",
       "      <th>age</th>\n",
       "      <th>breed</th>\n",
       "      <th>color</th>\n",
       "      <th>less_1month</th>\n",
       "      <th>age_2_10</th>\n",
       "      <th>age_10plus</th>\n",
       "      <th>hairgroup</th>\n",
       "      <th>mix</th>\n",
       "      <th>IsSolidColor</th>\n",
       "      <th>virginity</th>\n",
       "      <th>sex_</th>\n",
       "    </tr>\n",
       "  </thead>\n",
       "  <tbody>\n",
       "    <tr>\n",
       "      <th>1</th>\n",
       "      <td>A656520</td>\n",
       "      <td>1</td>\n",
       "      <td>2013-10-13 12:44:00</td>\n",
       "      <td>Euthanasia</td>\n",
       "      <td>Suffering</td>\n",
       "      <td>Cat</td>\n",
       "      <td>Spayed Female</td>\n",
       "      <td>2</td>\n",
       "      <td>other</td>\n",
       "      <td>19</td>\n",
       "      <td>no</td>\n",
       "      <td>no</td>\n",
       "      <td>no</td>\n",
       "      <td>0</td>\n",
       "      <td>0</td>\n",
       "      <td>1</td>\n",
       "      <td>1</td>\n",
       "      <td>2</td>\n",
       "    </tr>\n",
       "  </tbody>\n",
       "</table>\n",
       "</div>"
      ],
      "text/plain": [
       "        ID  name                 date      target    subtype animal  \\\n",
       "1  A656520     1  2013-10-13 12:44:00  Euthanasia  Suffering    Cat   \n",
       "\n",
       "             sex  age  breed  color less_1month age_2_10 age_10plus  \\\n",
       "1  Spayed Female    2  other     19          no       no         no   \n",
       "\n",
       "   hairgroup  mix  IsSolidColor  virginity  sex_  \n",
       "1          0    0             1          1     2  "
      ]
     },
     "execution_count": 29,
     "metadata": {},
     "output_type": "execute_result"
    }
   ],
   "source": [
    "#categorize name: has name/or not\n",
    "def name(x):\n",
    "  x = str(x)\n",
    "  if x == 'nan':\n",
    "    return 0\n",
    "  else:\n",
    "    return 1\n",
    "\n",
    "train_cat['name'] = train_cat.name.apply(name)\n",
    "train_dog['name'] = train_dog.name.apply(name)\n",
    "\n",
    "test_cat['name'] = test_cat.name.apply(name)\n",
    "test_dog['name'] = test_dog.name.apply(name)\n",
    "\n",
    "train_cat.head(1)"
   ]
  },
  {
   "cell_type": "code",
   "execution_count": 30,
   "metadata": {
    "execution": {
     "iopub.execute_input": "2020-10-09T15:59:06.173188Z",
     "iopub.status.busy": "2020-10-09T15:59:06.172233Z",
     "iopub.status.idle": "2020-10-09T15:59:06.177201Z",
     "shell.execute_reply": "2020-10-09T15:59:06.176449Z"
    },
    "papermill": {
     "duration": 0.10835,
     "end_time": "2020-10-09T15:59:06.177328",
     "exception": false,
     "start_time": "2020-10-09T15:59:06.068978",
     "status": "completed"
    },
    "tags": []
   },
   "outputs": [
    {
     "data": {
      "text/html": [
       "<div>\n",
       "<style scoped>\n",
       "    .dataframe tbody tr th:only-of-type {\n",
       "        vertical-align: middle;\n",
       "    }\n",
       "\n",
       "    .dataframe tbody tr th {\n",
       "        vertical-align: top;\n",
       "    }\n",
       "\n",
       "    .dataframe thead th {\n",
       "        text-align: right;\n",
       "    }\n",
       "</style>\n",
       "<table border=\"1\" class=\"dataframe\">\n",
       "  <thead>\n",
       "    <tr style=\"text-align: right;\">\n",
       "      <th></th>\n",
       "      <th>ID</th>\n",
       "      <th>name</th>\n",
       "      <th>date</th>\n",
       "      <th>target</th>\n",
       "      <th>subtype</th>\n",
       "      <th>animal</th>\n",
       "      <th>sex</th>\n",
       "      <th>age</th>\n",
       "      <th>breed</th>\n",
       "      <th>color</th>\n",
       "      <th>less_1month</th>\n",
       "      <th>age_2_10</th>\n",
       "      <th>age_10plus</th>\n",
       "      <th>aggresive</th>\n",
       "      <th>allergic</th>\n",
       "      <th>hairgroup</th>\n",
       "      <th>mix</th>\n",
       "      <th>IsSolidColor</th>\n",
       "      <th>virginity</th>\n",
       "      <th>sex_</th>\n",
       "    </tr>\n",
       "  </thead>\n",
       "  <tbody>\n",
       "    <tr>\n",
       "      <th>0</th>\n",
       "      <td>A671945</td>\n",
       "      <td>1</td>\n",
       "      <td>2014-02-12 18:22:00</td>\n",
       "      <td>Return_to_owner</td>\n",
       "      <td>NaN</td>\n",
       "      <td>Dog</td>\n",
       "      <td>Neutered Male</td>\n",
       "      <td>2</td>\n",
       "      <td>other</td>\n",
       "      <td>11</td>\n",
       "      <td>no</td>\n",
       "      <td>no</td>\n",
       "      <td>no</td>\n",
       "      <td>11</td>\n",
       "      <td>11</td>\n",
       "      <td>2</td>\n",
       "      <td>0</td>\n",
       "      <td>0</td>\n",
       "      <td>1</td>\n",
       "      <td>1</td>\n",
       "    </tr>\n",
       "  </tbody>\n",
       "</table>\n",
       "</div>"
      ],
      "text/plain": [
       "        ID  name                 date           target subtype animal  \\\n",
       "0  A671945     1  2014-02-12 18:22:00  Return_to_owner     NaN    Dog   \n",
       "\n",
       "             sex  age  breed  color less_1month age_2_10 age_10plus  \\\n",
       "0  Neutered Male    2  other     11          no       no         no   \n",
       "\n",
       "   aggresive  allergic  hairgroup  mix  IsSolidColor  virginity  sex_  \n",
       "0         11        11          2    0             0          1     1  "
      ]
     },
     "execution_count": 30,
     "metadata": {},
     "output_type": "execute_result"
    }
   ],
   "source": [
    "train_dog.head(1)"
   ]
  },
  {
   "cell_type": "code",
   "execution_count": 31,
   "metadata": {
    "execution": {
     "iopub.execute_input": "2020-10-09T15:59:06.351339Z",
     "iopub.status.busy": "2020-10-09T15:59:06.350503Z",
     "iopub.status.idle": "2020-10-09T15:59:06.564919Z",
     "shell.execute_reply": "2020-10-09T15:59:06.564268Z"
    },
    "papermill": {
     "duration": 0.304741,
     "end_time": "2020-10-09T15:59:06.565062",
     "exception": false,
     "start_time": "2020-10-09T15:59:06.260321",
     "status": "completed"
    },
    "tags": []
   },
   "outputs": [
    {
     "data": {
      "text/plain": [
       "<AxesSubplot:xlabel='name', ylabel='count'>"
      ]
     },
     "execution_count": 31,
     "metadata": {},
     "output_type": "execute_result"
    },
    {
     "data": {
      "image/png": "[encoded data removed]",
      "text/plain": [
       "<Figure size 432x288 with 1 Axes>"
      ]
     },
     "metadata": {
      "needs_background": "light"
     },
     "output_type": "display_data"
    }
   ],
   "source": [
    "sns.countplot(x='name', data=train_cat, hue='target')"
   ]
  },
  {
   "cell_type": "code",
   "execution_count": 32,
   "metadata": {
    "execution": {
     "iopub.execute_input": "2020-10-09T15:59:06.742858Z",
     "iopub.status.busy": "2020-10-09T15:59:06.742104Z",
     "iopub.status.idle": "2020-10-09T15:59:06.942522Z",
     "shell.execute_reply": "2020-10-09T15:59:06.941809Z"
    },
    "papermill": {
     "duration": 0.293182,
     "end_time": "2020-10-09T15:59:06.942643",
     "exception": false,
     "start_time": "2020-10-09T15:59:06.649461",
     "status": "completed"
    },
    "tags": []
   },
   "outputs": [
    {
     "data": {
      "text/plain": [
       "<AxesSubplot:xlabel='name', ylabel='count'>"
      ]
     },
     "execution_count": 32,
     "metadata": {},
     "output_type": "execute_result"
    },
    {
     "data": {
      "image/png": "[encoded data removed]",
      "text/plain": [
       "<Figure size 432x288 with 1 Axes>"
      ]
     },
     "metadata": {
      "needs_background": "light"
     },
     "output_type": "display_data"
    }
   ],
   "source": [
    "sns.countplot(x='name', data=train_dog, hue='target')"
   ]
  },
  {
   "cell_type": "markdown",
   "metadata": {
    "papermill": {
     "duration": 0.08613,
     "end_time": "2020-10-09T15:59:07.115866",
     "exception": false,
     "start_time": "2020-10-09T15:59:07.029736",
     "status": "completed"
    },
    "tags": []
   },
   "source": [
    "For \"name\" column, we convert 1/0 with respect to has_name/or_not for each animals. And on the graph we see having name is important for the outcomes \"return to owner\" and \"adoption\". "
   ]
  },
  {
   "cell_type": "markdown",
   "metadata": {
    "papermill": {
     "duration": 0.08516,
     "end_time": "2020-10-09T15:59:07.287384",
     "exception": false,
     "start_time": "2020-10-09T15:59:07.202224",
     "status": "completed"
    },
    "tags": []
   },
   "source": [
    "**TARGET**"
   ]
  },
  {
   "cell_type": "code",
   "execution_count": 33,
   "metadata": {
    "execution": {
     "iopub.execute_input": "2020-10-09T15:59:07.469178Z",
     "iopub.status.busy": "2020-10-09T15:59:07.468347Z",
     "iopub.status.idle": "2020-10-09T15:59:07.479838Z",
     "shell.execute_reply": "2020-10-09T15:59:07.479080Z"
    },
    "papermill": {
     "duration": 0.106972,
     "end_time": "2020-10-09T15:59:07.479963",
     "exception": false,
     "start_time": "2020-10-09T15:59:07.372991",
     "status": "completed"
    },
    "tags": []
   },
   "outputs": [],
   "source": [
    "#converting target features to numbers\n",
    "target_list = {'Adoption':1, 'Died':2, 'Euthanasia':3, 'Return_to_owner':4, 'Transfer':5}\n",
    "\n",
    "train_dog['target'] = train_dog.target.map(target_list)\n",
    "train_cat['target'] = train_cat.target.map(target_list)"
   ]
  },
  {
   "cell_type": "markdown",
   "metadata": {
    "papermill": {
     "duration": 0.085217,
     "end_time": "2020-10-09T15:59:07.651239",
     "exception": false,
     "start_time": "2020-10-09T15:59:07.566022",
     "status": "completed"
    },
    "tags": []
   },
   "source": [
    "For **\"target\"** column we convert the categorical values to numeric values with respect to alphabetical order."
   ]
  },
  {
   "cell_type": "markdown",
   "metadata": {
    "papermill": {
     "duration": 0.08506,
     "end_time": "2020-10-09T15:59:07.822266",
     "exception": false,
     "start_time": "2020-10-09T15:59:07.737206",
     "status": "completed"
    },
    "tags": []
   },
   "source": [
    "**DATE**"
   ]
  },
  {
   "cell_type": "code",
   "execution_count": 34,
   "metadata": {
    "execution": {
     "iopub.execute_input": "2020-10-09T15:59:08.021637Z",
     "iopub.status.busy": "2020-10-09T15:59:08.020805Z",
     "iopub.status.idle": "2020-10-09T15:59:08.117259Z",
     "shell.execute_reply": "2020-10-09T15:59:08.116481Z"
    },
    "papermill": {
     "duration": 0.209638,
     "end_time": "2020-10-09T15:59:08.117388",
     "exception": false,
     "start_time": "2020-10-09T15:59:07.907750",
     "status": "completed"
    },
    "tags": []
   },
   "outputs": [
    {
     "data": {
      "text/html": [
       "<div>\n",
       "<style scoped>\n",
       "    .dataframe tbody tr th:only-of-type {\n",
       "        vertical-align: middle;\n",
       "    }\n",
       "\n",
       "    .dataframe tbody tr th {\n",
       "        vertical-align: top;\n",
       "    }\n",
       "\n",
       "    .dataframe thead th {\n",
       "        text-align: right;\n",
       "    }\n",
       "</style>\n",
       "<table border=\"1\" class=\"dataframe\">\n",
       "  <thead>\n",
       "    <tr style=\"text-align: right;\">\n",
       "      <th></th>\n",
       "      <th>ID</th>\n",
       "      <th>name</th>\n",
       "      <th>date</th>\n",
       "      <th>target</th>\n",
       "      <th>subtype</th>\n",
       "      <th>animal</th>\n",
       "      <th>sex</th>\n",
       "      <th>age</th>\n",
       "      <th>breed</th>\n",
       "      <th>color</th>\n",
       "      <th>...</th>\n",
       "      <th>hairgroup</th>\n",
       "      <th>mix</th>\n",
       "      <th>IsSolidColor</th>\n",
       "      <th>virginity</th>\n",
       "      <th>sex_</th>\n",
       "      <th>dayofweek</th>\n",
       "      <th>month</th>\n",
       "      <th>year</th>\n",
       "      <th>hour</th>\n",
       "      <th>minute</th>\n",
       "    </tr>\n",
       "  </thead>\n",
       "  <tbody>\n",
       "    <tr>\n",
       "      <th>1</th>\n",
       "      <td>A656520</td>\n",
       "      <td>1</td>\n",
       "      <td>2013-10-13 12:44:00</td>\n",
       "      <td>3</td>\n",
       "      <td>Suffering</td>\n",
       "      <td>Cat</td>\n",
       "      <td>Spayed Female</td>\n",
       "      <td>2</td>\n",
       "      <td>other</td>\n",
       "      <td>19</td>\n",
       "      <td>...</td>\n",
       "      <td>0</td>\n",
       "      <td>0</td>\n",
       "      <td>1</td>\n",
       "      <td>1</td>\n",
       "      <td>2</td>\n",
       "      <td>6</td>\n",
       "      <td>10</td>\n",
       "      <td>1</td>\n",
       "      <td>12</td>\n",
       "      <td>44</td>\n",
       "    </tr>\n",
       "  </tbody>\n",
       "</table>\n",
       "<p>1 rows × 23 columns</p>\n",
       "</div>"
      ],
      "text/plain": [
       "        ID  name                date  target    subtype animal            sex  \\\n",
       "1  A656520     1 2013-10-13 12:44:00       3  Suffering    Cat  Spayed Female   \n",
       "\n",
       "   age  breed  color  ... hairgroup mix IsSolidColor  virginity  sex_  \\\n",
       "1    2  other     19  ...         0   0            1          1     2   \n",
       "\n",
       "   dayofweek  month  year  hour  minute  \n",
       "1          6     10     1    12      44  \n",
       "\n",
       "[1 rows x 23 columns]"
      ]
     },
     "execution_count": 34,
     "metadata": {},
     "output_type": "execute_result"
    }
   ],
   "source": [
    "#taking date units from datetime column for cats\n",
    "train_cat.date = pd.to_datetime(train_cat.date)\n",
    "train_cat[\"dayofweek\"] = train_cat.date.dt.dayofweek\n",
    "train_cat[\"month\"] = train_cat.date.dt.month\n",
    "train_cat[\"year\"] = train_cat.date.dt.year\n",
    "train_cat[\"hour\"] = train_cat.date.dt.hour\n",
    "train_cat[\"minute\"] = train_cat.date.dt.minute\n",
    "\n",
    "test_cat.date = pd.to_datetime(test_cat.date)\n",
    "test_cat[\"dayofweek\"] = test_cat.date.dt.dayofweek\n",
    "test_cat[\"month\"] = test_cat.date.dt.month\n",
    "test_cat[\"year\"] = test_cat.date.dt.year\n",
    "test_cat[\"hour\"] = test_cat.date.dt.hour\n",
    "test_cat[\"minute\"] = test_cat.date.dt.minute\n",
    "\n",
    "#taking date units from datetime column for dogs\n",
    "train_dog.date = pd.to_datetime(train_dog.date)\n",
    "train_dog[\"dayofweek\"] = train_dog.date.dt.dayofweek\n",
    "train_dog[\"month\"] = train_dog.date.dt.month\n",
    "train_dog[\"year\"] = train_dog.date.dt.year\n",
    "train_dog[\"hour\"] = train_dog.date.dt.hour\n",
    "train_dog[\"minute\"] = train_dog.date.dt.minute\n",
    "\n",
    "test_dog.date = pd.to_datetime(test_dog.date)\n",
    "test_dog[\"dayofweek\"] = test_dog.date.dt.dayofweek\n",
    "test_dog[\"month\"] = test_dog.date.dt.month\n",
    "test_dog[\"year\"] = test_dog.date.dt.year\n",
    "test_dog[\"hour\"] = test_dog.date.dt.hour\n",
    "test_dog[\"minute\"] = test_dog.date.dt.minute\n",
    "\n",
    "#mapping years to numbers\n",
    "year_list = {2013 : 1, 2014 : 2, 2015 : 3, 2016:4}\n",
    "train_cat['year'] = train_cat.year.map(year_list)\n",
    "train_dog['year'] = train_dog.year.map(year_list)\n",
    "\n",
    "test_cat['year'] = test_cat.year.map(year_list)\n",
    "test_dog['year'] = test_dog.year.map(year_list)\n",
    "\n",
    "train_cat.head(1)"
   ]
  },
  {
   "cell_type": "code",
   "execution_count": 35,
   "metadata": {
    "execution": {
     "iopub.execute_input": "2020-10-09T15:59:08.322262Z",
     "iopub.status.busy": "2020-10-09T15:59:08.321218Z",
     "iopub.status.idle": "2020-10-09T15:59:08.326214Z",
     "shell.execute_reply": "2020-10-09T15:59:08.325476Z"
    },
    "papermill": {
     "duration": 0.121771,
     "end_time": "2020-10-09T15:59:08.326337",
     "exception": false,
     "start_time": "2020-10-09T15:59:08.204566",
     "status": "completed"
    },
    "tags": []
   },
   "outputs": [
    {
     "data": {
      "text/html": [
       "<div>\n",
       "<style scoped>\n",
       "    .dataframe tbody tr th:only-of-type {\n",
       "        vertical-align: middle;\n",
       "    }\n",
       "\n",
       "    .dataframe tbody tr th {\n",
       "        vertical-align: top;\n",
       "    }\n",
       "\n",
       "    .dataframe thead th {\n",
       "        text-align: right;\n",
       "    }\n",
       "</style>\n",
       "<table border=\"1\" class=\"dataframe\">\n",
       "  <thead>\n",
       "    <tr style=\"text-align: right;\">\n",
       "      <th></th>\n",
       "      <th>ID</th>\n",
       "      <th>name</th>\n",
       "      <th>date</th>\n",
       "      <th>target</th>\n",
       "      <th>subtype</th>\n",
       "      <th>animal</th>\n",
       "      <th>sex</th>\n",
       "      <th>age</th>\n",
       "      <th>breed</th>\n",
       "      <th>color</th>\n",
       "      <th>...</th>\n",
       "      <th>hairgroup</th>\n",
       "      <th>mix</th>\n",
       "      <th>IsSolidColor</th>\n",
       "      <th>virginity</th>\n",
       "      <th>sex_</th>\n",
       "      <th>dayofweek</th>\n",
       "      <th>month</th>\n",
       "      <th>year</th>\n",
       "      <th>hour</th>\n",
       "      <th>minute</th>\n",
       "    </tr>\n",
       "  </thead>\n",
       "  <tbody>\n",
       "    <tr>\n",
       "      <th>0</th>\n",
       "      <td>A671945</td>\n",
       "      <td>1</td>\n",
       "      <td>2014-02-12 18:22:00</td>\n",
       "      <td>4</td>\n",
       "      <td>NaN</td>\n",
       "      <td>Dog</td>\n",
       "      <td>Neutered Male</td>\n",
       "      <td>2</td>\n",
       "      <td>other</td>\n",
       "      <td>11</td>\n",
       "      <td>...</td>\n",
       "      <td>2</td>\n",
       "      <td>0</td>\n",
       "      <td>0</td>\n",
       "      <td>1</td>\n",
       "      <td>1</td>\n",
       "      <td>2</td>\n",
       "      <td>2</td>\n",
       "      <td>2</td>\n",
       "      <td>18</td>\n",
       "      <td>22</td>\n",
       "    </tr>\n",
       "  </tbody>\n",
       "</table>\n",
       "<p>1 rows × 25 columns</p>\n",
       "</div>"
      ],
      "text/plain": [
       "        ID  name                date  target subtype animal            sex  \\\n",
       "0  A671945     1 2014-02-12 18:22:00       4     NaN    Dog  Neutered Male   \n",
       "\n",
       "   age  breed  color  ... hairgroup mix IsSolidColor  virginity  sex_  \\\n",
       "0    2  other     11  ...         2   0            0          1     1   \n",
       "\n",
       "   dayofweek  month  year  hour  minute  \n",
       "0          2      2     2    18      22  \n",
       "\n",
       "[1 rows x 25 columns]"
      ]
     },
     "execution_count": 35,
     "metadata": {},
     "output_type": "execute_result"
    }
   ],
   "source": [
    "train_dog.head(1)"
   ]
  },
  {
   "cell_type": "markdown",
   "metadata": {
    "papermill": {
     "duration": 0.087117,
     "end_time": "2020-10-09T15:59:08.501079",
     "exception": false,
     "start_time": "2020-10-09T15:59:08.413962",
     "status": "completed"
    },
    "tags": []
   },
   "source": [
    "For **\"date\"** column we take the **\"dayofweek\"**, **\"month\"**, **\"year\"**, **\"hour\"**, **\"minute\"** values and convert year column to digits."
   ]
  },
  {
   "cell_type": "markdown",
   "metadata": {
    "papermill": {
     "duration": 0.087184,
     "end_time": "2020-10-09T15:59:08.675529",
     "exception": false,
     "start_time": "2020-10-09T15:59:08.588345",
     "status": "completed"
    },
    "tags": []
   },
   "source": [
    "# **3. MODELLING**"
   ]
  },
  {
   "cell_type": "code",
   "execution_count": 36,
   "metadata": {
    "execution": {
     "iopub.execute_input": "2020-10-09T15:59:08.863441Z",
     "iopub.status.busy": "2020-10-09T15:59:08.862582Z",
     "iopub.status.idle": "2020-10-09T15:59:08.920284Z",
     "shell.execute_reply": "2020-10-09T15:59:08.919206Z"
    },
    "papermill": {
     "duration": 0.157924,
     "end_time": "2020-10-09T15:59:08.920469",
     "exception": false,
     "start_time": "2020-10-09T15:59:08.762545",
     "status": "completed"
    },
    "tags": []
   },
   "outputs": [
    {
     "name": "stdout",
     "output_type": "stream",
     "text": [
      "train cat shapes: (7459, 24) (3675, 24) (7459,) (3675,)\n",
      "train dog shapes: (10448, 48) (5147, 48) (10448,) (5147,)\n"
     ]
    }
   ],
   "source": [
    "from sklearn.metrics import confusion_matrix, accuracy_score, classification_report\n",
    "X_cat = train_cat.drop(['ID', 'date', 'target', 'subtype', 'animal','sex'], axis=1)\n",
    "Y_cat = train_cat['target']\n",
    "\n",
    "from sklearn.model_selection import train_test_split\n",
    "X_cat = pd.get_dummies(X_cat)\n",
    "X_train_cat, X_test_cat, Y_train_cat, Y_test_cat = train_test_split(X_cat, Y_cat, test_size = 0.33, random_state=0)\n",
    "\n",
    "\n",
    "X_dog = train_dog.drop(['ID', 'date', 'target', 'subtype', 'animal','sex'], axis=1)\n",
    "Y_dog = train_dog['target']\n",
    "\n",
    "from sklearn.model_selection import train_test_split\n",
    "X_dog = pd.get_dummies(X_dog)\n",
    "X_train_dog, X_test_dog, Y_train_dog, Y_test_dog = train_test_split(X_dog, Y_dog, test_size = 0.33, random_state=0)\n",
    "\n",
    "\n",
    "print(\"train cat shapes:\",X_train_cat.shape, X_test_cat.shape, Y_train_cat.shape, Y_test_cat.shape)\n",
    "print(\"train dog shapes:\",X_train_dog.shape, X_test_dog.shape, Y_train_dog.shape, Y_test_dog.shape)"
   ]
  },
  {
   "cell_type": "code",
   "execution_count": 37,
   "metadata": {
    "execution": {
     "iopub.execute_input": "2020-10-09T15:59:09.119029Z",
     "iopub.status.busy": "2020-10-09T15:59:09.118056Z",
     "iopub.status.idle": "2020-10-09T15:59:09.122737Z",
     "shell.execute_reply": "2020-10-09T15:59:09.122142Z"
    },
    "papermill": {
     "duration": 0.112614,
     "end_time": "2020-10-09T15:59:09.122869",
     "exception": false,
     "start_time": "2020-10-09T15:59:09.010255",
     "status": "completed"
    },
    "tags": []
   },
   "outputs": [
    {
     "data": {
      "text/html": [
       "<div>\n",
       "<style scoped>\n",
       "    .dataframe tbody tr th:only-of-type {\n",
       "        vertical-align: middle;\n",
       "    }\n",
       "\n",
       "    .dataframe tbody tr th {\n",
       "        vertical-align: top;\n",
       "    }\n",
       "\n",
       "    .dataframe thead th {\n",
       "        text-align: right;\n",
       "    }\n",
       "</style>\n",
       "<table border=\"1\" class=\"dataframe\">\n",
       "  <thead>\n",
       "    <tr style=\"text-align: right;\">\n",
       "      <th></th>\n",
       "      <th>name</th>\n",
       "      <th>age</th>\n",
       "      <th>color</th>\n",
       "      <th>hairgroup</th>\n",
       "      <th>mix</th>\n",
       "      <th>IsSolidColor</th>\n",
       "      <th>virginity</th>\n",
       "      <th>sex_</th>\n",
       "      <th>dayofweek</th>\n",
       "      <th>month</th>\n",
       "      <th>...</th>\n",
       "      <th>breed_Domestic Medium Hair</th>\n",
       "      <th>breed_Domestic Shorthair</th>\n",
       "      <th>breed_Siamese</th>\n",
       "      <th>breed_other</th>\n",
       "      <th>less_1month_no</th>\n",
       "      <th>less_1month_yes</th>\n",
       "      <th>age_2_10_no</th>\n",
       "      <th>age_2_10_yes</th>\n",
       "      <th>age_10plus_no</th>\n",
       "      <th>age_10plus_yes</th>\n",
       "    </tr>\n",
       "  </thead>\n",
       "  <tbody>\n",
       "    <tr>\n",
       "      <th>1</th>\n",
       "      <td>1</td>\n",
       "      <td>2</td>\n",
       "      <td>19</td>\n",
       "      <td>0</td>\n",
       "      <td>0</td>\n",
       "      <td>1</td>\n",
       "      <td>1</td>\n",
       "      <td>2</td>\n",
       "      <td>6</td>\n",
       "      <td>10</td>\n",
       "      <td>...</td>\n",
       "      <td>0</td>\n",
       "      <td>0</td>\n",
       "      <td>0</td>\n",
       "      <td>1</td>\n",
       "      <td>1</td>\n",
       "      <td>0</td>\n",
       "      <td>1</td>\n",
       "      <td>0</td>\n",
       "      <td>1</td>\n",
       "      <td>0</td>\n",
       "    </tr>\n",
       "    <tr>\n",
       "      <th>3</th>\n",
       "      <td>0</td>\n",
       "      <td>7</td>\n",
       "      <td>6</td>\n",
       "      <td>0</td>\n",
       "      <td>0</td>\n",
       "      <td>1</td>\n",
       "      <td>2</td>\n",
       "      <td>1</td>\n",
       "      <td>4</td>\n",
       "      <td>7</td>\n",
       "      <td>...</td>\n",
       "      <td>0</td>\n",
       "      <td>0</td>\n",
       "      <td>0</td>\n",
       "      <td>1</td>\n",
       "      <td>0</td>\n",
       "      <td>1</td>\n",
       "      <td>1</td>\n",
       "      <td>0</td>\n",
       "      <td>1</td>\n",
       "      <td>0</td>\n",
       "    </tr>\n",
       "    <tr>\n",
       "      <th>6</th>\n",
       "      <td>1</td>\n",
       "      <td>7</td>\n",
       "      <td>9</td>\n",
       "      <td>0</td>\n",
       "      <td>0</td>\n",
       "      <td>1</td>\n",
       "      <td>2</td>\n",
       "      <td>1</td>\n",
       "      <td>5</td>\n",
       "      <td>3</td>\n",
       "      <td>...</td>\n",
       "      <td>0</td>\n",
       "      <td>0</td>\n",
       "      <td>0</td>\n",
       "      <td>1</td>\n",
       "      <td>0</td>\n",
       "      <td>1</td>\n",
       "      <td>1</td>\n",
       "      <td>0</td>\n",
       "      <td>1</td>\n",
       "      <td>0</td>\n",
       "    </tr>\n",
       "  </tbody>\n",
       "</table>\n",
       "<p>3 rows × 24 columns</p>\n",
       "</div>"
      ],
      "text/plain": [
       "   name  age  color  hairgroup  mix  IsSolidColor  virginity  sex_  dayofweek  \\\n",
       "1     1    2     19          0    0             1          1     2          6   \n",
       "3     0    7      6          0    0             1          2     1          4   \n",
       "6     1    7      9          0    0             1          2     1          5   \n",
       "\n",
       "   month  ...  breed_Domestic Medium Hair  breed_Domestic Shorthair  \\\n",
       "1     10  ...                           0                         0   \n",
       "3      7  ...                           0                         0   \n",
       "6      3  ...                           0                         0   \n",
       "\n",
       "   breed_Siamese  breed_other  less_1month_no  less_1month_yes  age_2_10_no  \\\n",
       "1              0            1               1                0            1   \n",
       "3              0            1               0                1            1   \n",
       "6              0            1               0                1            1   \n",
       "\n",
       "   age_2_10_yes  age_10plus_no  age_10plus_yes  \n",
       "1             0              1               0  \n",
       "3             0              1               0  \n",
       "6             0              1               0  \n",
       "\n",
       "[3 rows x 24 columns]"
      ]
     },
     "execution_count": 37,
     "metadata": {},
     "output_type": "execute_result"
    }
   ],
   "source": [
    "X_cat.head(3)"
   ]
  },
  {
   "cell_type": "code",
   "execution_count": 38,
   "metadata": {
    "execution": {
     "iopub.execute_input": "2020-10-09T15:59:09.322758Z",
     "iopub.status.busy": "2020-10-09T15:59:09.321750Z",
     "iopub.status.idle": "2020-10-09T15:59:09.327282Z",
     "shell.execute_reply": "2020-10-09T15:59:09.326533Z"
    },
    "papermill": {
     "duration": 0.113865,
     "end_time": "2020-10-09T15:59:09.327407",
     "exception": false,
     "start_time": "2020-10-09T15:59:09.213542",
     "status": "completed"
    },
    "tags": []
   },
   "outputs": [
    {
     "data": {
      "text/html": [
       "<div>\n",
       "<style scoped>\n",
       "    .dataframe tbody tr th:only-of-type {\n",
       "        vertical-align: middle;\n",
       "    }\n",
       "\n",
       "    .dataframe tbody tr th {\n",
       "        vertical-align: top;\n",
       "    }\n",
       "\n",
       "    .dataframe thead th {\n",
       "        text-align: right;\n",
       "    }\n",
       "</style>\n",
       "<table border=\"1\" class=\"dataframe\">\n",
       "  <thead>\n",
       "    <tr style=\"text-align: right;\">\n",
       "      <th></th>\n",
       "      <th>name</th>\n",
       "      <th>age</th>\n",
       "      <th>color</th>\n",
       "      <th>aggresive</th>\n",
       "      <th>allergic</th>\n",
       "      <th>hairgroup</th>\n",
       "      <th>mix</th>\n",
       "      <th>IsSolidColor</th>\n",
       "      <th>virginity</th>\n",
       "      <th>sex_</th>\n",
       "      <th>...</th>\n",
       "      <th>breed_Siberian Husky</th>\n",
       "      <th>breed_Staffordshire</th>\n",
       "      <th>breed_Yorkshire Terrier</th>\n",
       "      <th>breed_other</th>\n",
       "      <th>less_1month_no</th>\n",
       "      <th>less_1month_yes</th>\n",
       "      <th>age_2_10_no</th>\n",
       "      <th>age_2_10_yes</th>\n",
       "      <th>age_10plus_no</th>\n",
       "      <th>age_10plus_yes</th>\n",
       "    </tr>\n",
       "  </thead>\n",
       "  <tbody>\n",
       "    <tr>\n",
       "      <th>0</th>\n",
       "      <td>1</td>\n",
       "      <td>2</td>\n",
       "      <td>11</td>\n",
       "      <td>11</td>\n",
       "      <td>11</td>\n",
       "      <td>2</td>\n",
       "      <td>0</td>\n",
       "      <td>0</td>\n",
       "      <td>1</td>\n",
       "      <td>1</td>\n",
       "      <td>...</td>\n",
       "      <td>0</td>\n",
       "      <td>0</td>\n",
       "      <td>0</td>\n",
       "      <td>1</td>\n",
       "      <td>1</td>\n",
       "      <td>0</td>\n",
       "      <td>1</td>\n",
       "      <td>0</td>\n",
       "      <td>1</td>\n",
       "      <td>0</td>\n",
       "    </tr>\n",
       "    <tr>\n",
       "      <th>2</th>\n",
       "      <td>1</td>\n",
       "      <td>2</td>\n",
       "      <td>5</td>\n",
       "      <td>1</td>\n",
       "      <td>11</td>\n",
       "      <td>2</td>\n",
       "      <td>0</td>\n",
       "      <td>0</td>\n",
       "      <td>1</td>\n",
       "      <td>1</td>\n",
       "      <td>...</td>\n",
       "      <td>0</td>\n",
       "      <td>0</td>\n",
       "      <td>0</td>\n",
       "      <td>1</td>\n",
       "      <td>1</td>\n",
       "      <td>0</td>\n",
       "      <td>0</td>\n",
       "      <td>1</td>\n",
       "      <td>1</td>\n",
       "      <td>0</td>\n",
       "    </tr>\n",
       "    <tr>\n",
       "      <th>4</th>\n",
       "      <td>0</td>\n",
       "      <td>2</td>\n",
       "      <td>30</td>\n",
       "      <td>11</td>\n",
       "      <td>11</td>\n",
       "      <td>2</td>\n",
       "      <td>1</td>\n",
       "      <td>1</td>\n",
       "      <td>1</td>\n",
       "      <td>1</td>\n",
       "      <td>...</td>\n",
       "      <td>0</td>\n",
       "      <td>0</td>\n",
       "      <td>0</td>\n",
       "      <td>1</td>\n",
       "      <td>1</td>\n",
       "      <td>0</td>\n",
       "      <td>0</td>\n",
       "      <td>1</td>\n",
       "      <td>1</td>\n",
       "      <td>0</td>\n",
       "    </tr>\n",
       "  </tbody>\n",
       "</table>\n",
       "<p>3 rows × 48 columns</p>\n",
       "</div>"
      ],
      "text/plain": [
       "   name  age  color  aggresive  allergic  hairgroup  mix  IsSolidColor  \\\n",
       "0     1    2     11         11        11          2    0             0   \n",
       "2     1    2      5          1        11          2    0             0   \n",
       "4     0    2     30         11        11          2    1             1   \n",
       "\n",
       "   virginity  sex_  ...  breed_Siberian Husky  breed_Staffordshire  \\\n",
       "0          1     1  ...                     0                    0   \n",
       "2          1     1  ...                     0                    0   \n",
       "4          1     1  ...                     0                    0   \n",
       "\n",
       "   breed_Yorkshire Terrier  breed_other  less_1month_no  less_1month_yes  \\\n",
       "0                        0            1               1                0   \n",
       "2                        0            1               1                0   \n",
       "4                        0            1               1                0   \n",
       "\n",
       "   age_2_10_no  age_2_10_yes  age_10plus_no  age_10plus_yes  \n",
       "0            1             0              1               0  \n",
       "2            0             1              1               0  \n",
       "4            0             1              1               0  \n",
       "\n",
       "[3 rows x 48 columns]"
      ]
     },
     "execution_count": 38,
     "metadata": {},
     "output_type": "execute_result"
    }
   ],
   "source": [
    "X_dog.head(3)"
   ]
  },
  {
   "cell_type": "markdown",
   "metadata": {
    "papermill": {
     "duration": 0.095249,
     "end_time": "2020-10-09T15:59:09.514046",
     "exception": false,
     "start_time": "2020-10-09T15:59:09.418797",
     "status": "completed"
    },
    "tags": []
   },
   "source": [
    "We drop the unuseful columns and apply the train-test split for both cat and dog datasets than apply get dummies for categorical feature. Now our datasets are ready to modelling. Since our data formed mainly by categorical features, we will try **Logistic Regression**, **Decision Tree**, **Random Forest**, **AdaBoost**, **Gradient Boosting**, **XGBoost** and **SVM** for both datasets. Than compare the results and choose best. "
   ]
  },
  {
   "cell_type": "markdown",
   "metadata": {
    "papermill": {
     "duration": 0.099977,
     "end_time": "2020-10-09T15:59:09.724820",
     "exception": false,
     "start_time": "2020-10-09T15:59:09.624843",
     "status": "completed"
    },
    "tags": []
   },
   "source": [
    "**Logistic Regression**"
   ]
  },
  {
   "cell_type": "code",
   "execution_count": 39,
   "metadata": {
    "execution": {
     "iopub.execute_input": "2020-10-09T15:59:09.937168Z",
     "iopub.status.busy": "2020-10-09T15:59:09.936349Z",
     "iopub.status.idle": "2020-10-09T15:59:11.325458Z",
     "shell.execute_reply": "2020-10-09T15:59:11.326228Z"
    },
    "papermill": {
     "duration": 1.500026,
     "end_time": "2020-10-09T15:59:11.326395",
     "exception": false,
     "start_time": "2020-10-09T15:59:09.826369",
     "status": "completed"
    },
    "tags": []
   },
   "outputs": [
    {
     "name": "stdout",
     "output_type": "stream",
     "text": [
      "[[1221    0    0    0  224]\n",
      " [   5    0    0    0   46]\n",
      " [  27    0    2    0  208]\n",
      " [  92    0    0    0   61]\n",
      " [ 309    0    0    0 1480]]\n",
      "\n",
      "Accuracy Cat:  0.7355102040816327\n",
      "\n",
      " [[1769    0    0  340   92]\n",
      " [   2    0    0    3    7]\n",
      " [  35    0    1  107  139]\n",
      " [ 583    0    2  661  153]\n",
      " [ 406    0    0  248  599]]\n",
      "\n",
      "Accuracy Dog:  0.5886924421993395\n"
     ]
    }
   ],
   "source": [
    "from sklearn.linear_model import LogisticRegression\n",
    "\n",
    "clf_cat = LogisticRegression()\n",
    "clf_cat.fit(X_train_cat, Y_train_cat)\n",
    "\n",
    "y_pred_log_reg = clf_cat.predict(X_test_cat)\n",
    "\n",
    "print(confusion_matrix(Y_test_cat, y_pred_log_reg))\n",
    "print(\"\\nAccuracy Cat: \", accuracy_score(Y_test_cat, y_pred_log_reg))\n",
    "\n",
    "\n",
    "clf_dog = LogisticRegression()\n",
    "clf_dog.fit(X_train_dog, Y_train_dog)\n",
    "\n",
    "y_pred_log_reg = clf_dog.predict(X_test_dog)\n",
    "\n",
    "print(\"\\n\",confusion_matrix(Y_test_dog, y_pred_log_reg))\n",
    "print(\"\\nAccuracy Dog: \", accuracy_score(Y_test_dog, y_pred_log_reg))"
   ]
  },
  {
   "cell_type": "markdown",
   "metadata": {
    "papermill": {
     "duration": 0.096688,
     "end_time": "2020-10-09T15:59:11.526199",
     "exception": false,
     "start_time": "2020-10-09T15:59:11.429511",
     "status": "completed"
    },
    "tags": []
   },
   "source": [
    "**Desicion Tree**"
   ]
  },
  {
   "cell_type": "code",
   "execution_count": 40,
   "metadata": {
    "execution": {
     "iopub.execute_input": "2020-10-09T15:59:11.734190Z",
     "iopub.status.busy": "2020-10-09T15:59:11.733312Z",
     "iopub.status.idle": "2020-10-09T15:59:11.946288Z",
     "shell.execute_reply": "2020-10-09T15:59:11.945549Z"
    },
    "papermill": {
     "duration": 0.320081,
     "end_time": "2020-10-09T15:59:11.946408",
     "exception": false,
     "start_time": "2020-10-09T15:59:11.626327",
     "status": "completed"
    },
    "tags": []
   },
   "outputs": [
    {
     "name": "stdout",
     "output_type": "stream",
     "text": [
      "[[1184    8   19   79  155]\n",
      " [  11   14    7    1   18]\n",
      " [  26   10   81    7  113]\n",
      " [  66    0    9   27   51]\n",
      " [ 146   27   72   48 1496]]\n",
      "\n",
      "Accuracy Cat:  0.7624489795918368\n",
      "\n",
      " [[1278    4   55  494  370]\n",
      " [   3    2    1    2    4]\n",
      " [  34    5   76   77   90]\n",
      " [ 455    3  100  580  261]\n",
      " [ 285    7   84  257  620]]\n",
      "\n",
      "Accuracy Dog:  0.49659996114241306\n"
     ]
    }
   ],
   "source": [
    "from sklearn.tree import DecisionTreeClassifier\n",
    "\n",
    "clf_cat = DecisionTreeClassifier()\n",
    "model = clf_cat.fit(X_train_cat, Y_train_cat)\n",
    "\n",
    "y_pred_decision_tree = clf_cat.predict(X_test_cat)\n",
    "\n",
    "print(confusion_matrix(Y_test_cat, y_pred_decision_tree))\n",
    "print(\"\\nAccuracy Cat: \", accuracy_score(Y_test_cat, y_pred_decision_tree))\n",
    "\n",
    "\n",
    "\n",
    "clf_dog = DecisionTreeClassifier()\n",
    "model = clf_dog.fit(X_train_dog, Y_train_dog)\n",
    "\n",
    "y_pred_decision_tree = clf_dog.predict(X_test_dog)\n",
    "\n",
    "print(\"\\n\",confusion_matrix(Y_test_dog, y_pred_decision_tree))\n",
    "print(\"\\nAccuracy Dog: \", accuracy_score(Y_test_dog, y_pred_decision_tree))"
   ]
  },
  {
   "cell_type": "markdown",
   "metadata": {
    "papermill": {
     "duration": 0.093284,
     "end_time": "2020-10-09T15:59:12.135139",
     "exception": false,
     "start_time": "2020-10-09T15:59:12.041855",
     "status": "completed"
    },
    "tags": []
   },
   "source": [
    "**Random Forest**"
   ]
  },
  {
   "cell_type": "code",
   "execution_count": 41,
   "metadata": {
    "execution": {
     "iopub.execute_input": "2020-10-09T15:59:12.333445Z",
     "iopub.status.busy": "2020-10-09T15:59:12.332517Z",
     "iopub.status.idle": "2020-10-09T15:59:21.554921Z",
     "shell.execute_reply": "2020-10-09T15:59:21.555579Z"
    },
    "papermill": {
     "duration": 9.326394,
     "end_time": "2020-10-09T15:59:21.555804",
     "exception": false,
     "start_time": "2020-10-09T15:59:12.229410",
     "status": "completed"
    },
    "tags": []
   },
   "outputs": [
    {
     "name": "stdout",
     "output_type": "stream",
     "text": [
      "[[1304    0    3   12  126]\n",
      " [   7    4    3    0   37]\n",
      " [  22    0   59    2  154]\n",
      " [  76    0    4   14   59]\n",
      " [ 163    0   15    9 1602]]\n",
      "\n",
      "Accuracy Cat:  0.8117006802721088\n",
      "\n",
      " [[1783    0    0  367   51]\n",
      " [   3    0    0    2    7]\n",
      " [  34    0   25  117  106]\n",
      " [ 542    0    3  745  109]\n",
      " [ 397    0   11  269  576]]\n",
      "\n",
      "Accuracy Dog:  0.6079269477365455\n"
     ]
    }
   ],
   "source": [
    "from sklearn.ensemble import RandomForestClassifier\n",
    "\n",
    "forestOpt_cat = RandomForestClassifier(max_depth = 25, n_estimators = 300, min_samples_split = 2, min_samples_leaf = 1)\n",
    "                                   \n",
    "modelOpt_cat = forestOpt_cat.fit(X_train_cat, Y_train_cat)\n",
    "y_pred_cat = modelOpt_cat.predict(X_test_cat)\n",
    "\n",
    "print(confusion_matrix(Y_test_cat, y_pred_cat))\n",
    "print(\"\\nAccuracy Cat: \", accuracy_score(Y_test_cat, y_pred_cat))\n",
    "\n",
    "\n",
    "\n",
    "forestOpt_dog = RandomForestClassifier(random_state = 1, max_depth = 15, n_estimators = 500, min_samples_split = 2, min_samples_leaf = 3)\n",
    "                                   \n",
    "modelOpt_dog = forestOpt_dog.fit(X_train_dog, Y_train_dog)\n",
    "y_pred_dog = modelOpt_dog.predict(X_test_dog)\n",
    "\n",
    "print(\"\\n\", confusion_matrix(Y_test_dog, y_pred_dog))\n",
    "print(\"\\nAccuracy Dog: \", accuracy_score(Y_test_dog, y_pred_dog))"
   ]
  },
  {
   "cell_type": "markdown",
   "metadata": {
    "papermill": {
     "duration": 0.102906,
     "end_time": "2020-10-09T15:59:21.755387",
     "exception": false,
     "start_time": "2020-10-09T15:59:21.652481",
     "status": "completed"
    },
    "tags": []
   },
   "source": [
    "**AdaBoost**"
   ]
  },
  {
   "cell_type": "code",
   "execution_count": 42,
   "metadata": {
    "execution": {
     "iopub.execute_input": "2020-10-09T15:59:21.951900Z",
     "iopub.status.busy": "2020-10-09T15:59:21.950814Z",
     "iopub.status.idle": "2020-10-09T15:59:22.156068Z",
     "shell.execute_reply": "2020-10-09T15:59:22.155377Z"
    },
    "papermill": {
     "duration": 0.309306,
     "end_time": "2020-10-09T15:59:22.156213",
     "exception": false,
     "start_time": "2020-10-09T15:59:21.846907",
     "status": "completed"
    },
    "tags": []
   },
   "outputs": [
    {
     "name": "stdout",
     "output_type": "stream",
     "text": [
      "[[1311    0    0    0  134]\n",
      " [   4    0    0    0   47]\n",
      " [  24    0    0    0  213]\n",
      " [ 134    0    0    0   19]\n",
      " [ 354    0    0    0 1435]]\n",
      "\n",
      "Accuracy Cat:  0.7472108843537415\n",
      "\n",
      " [[1796    0    0  321   84]\n",
      " [   4    0    1    0    7]\n",
      " [  43    0    2   86  151]\n",
      " [ 739    0    5  467  188]\n",
      " [ 469    0    5  190  589]]\n",
      "\n",
      "Accuracy Dog:  0.5544977656887508\n"
     ]
    }
   ],
   "source": [
    "from sklearn.ensemble import AdaBoostClassifier\n",
    "\n",
    "clf_cat = AdaBoostClassifier(random_state=0, n_estimators=7, learning_rate=0.9)\n",
    "clf_cat.fit(X_train_cat, Y_train_cat)\n",
    "\n",
    "y_pred_adaboost_cat =clf_cat.predict(X_test_cat)\n",
    "\n",
    "print(confusion_matrix(Y_test_cat, y_pred_adaboost_cat))\n",
    "print(\"\\nAccuracy Cat: \", accuracy_score(Y_test_cat, y_pred_adaboost_cat))\n",
    "\n",
    "\n",
    "\n",
    "clf_dog = AdaBoostClassifier(random_state=0, n_estimators=7, learning_rate=0.9)\n",
    "clf_dog.fit(X_train_dog, Y_train_dog)\n",
    "\n",
    "y_pred_adaboost_dog =clf_dog.predict(X_test_dog)\n",
    "\n",
    "print(\"\\n\",confusion_matrix(Y_test_dog, y_pred_adaboost_dog))\n",
    "print(\"\\nAccuracy Dog: \", accuracy_score(Y_test_dog, y_pred_adaboost_dog))"
   ]
  },
  {
   "cell_type": "markdown",
   "metadata": {
    "papermill": {
     "duration": 0.091359,
     "end_time": "2020-10-09T15:59:22.340388",
     "exception": false,
     "start_time": "2020-10-09T15:59:22.249029",
     "status": "completed"
    },
    "tags": []
   },
   "source": [
    "**Gradient Boosting**"
   ]
  },
  {
   "cell_type": "code",
   "execution_count": 43,
   "metadata": {
    "execution": {
     "iopub.execute_input": "2020-10-09T15:59:22.535875Z",
     "iopub.status.busy": "2020-10-09T15:59:22.533105Z",
     "iopub.status.idle": "2020-10-09T15:59:24.007317Z",
     "shell.execute_reply": "2020-10-09T15:59:24.006311Z"
    },
    "papermill": {
     "duration": 1.575407,
     "end_time": "2020-10-09T15:59:24.007497",
     "exception": false,
     "start_time": "2020-10-09T15:59:22.432090",
     "status": "completed"
    },
    "tags": []
   },
   "outputs": [
    {
     "name": "stdout",
     "output_type": "stream",
     "text": [
      "[[1261    0    2    0  182]\n",
      " [   4    4    2    0   41]\n",
      " [  14    1   23    1  198]\n",
      " [  82    0    0    0   71]\n",
      " [ 188    2    4    0 1595]]\n",
      "\n",
      "Accuracy Cat:  0.7844897959183673\n",
      "\n",
      " [[1905    0    0  256   40]\n",
      " [   3    0    0    3    6]\n",
      " [  60    6   12   90  114]\n",
      " [ 682    0    1  592  124]\n",
      " [ 466    1    7  242  537]]\n",
      "\n",
      "Accuracy Dog:  0.5918010491548474\n"
     ]
    }
   ],
   "source": [
    "from sklearn.ensemble import GradientBoostingClassifier\n",
    "\n",
    "clf_cat = GradientBoostingClassifier(random_state=0, n_estimators=10)\n",
    "clf_cat.fit(X_train_cat, Y_train_cat)\n",
    "\n",
    "y_pred_grad_cat = clf_cat.predict(X_test_cat)\n",
    "\n",
    "print(confusion_matrix(Y_test_cat, y_pred_grad_cat))\n",
    "print(\"\\nAccuracy Cat: \", accuracy_score(Y_test_cat, y_pred_grad_cat))\n",
    "\n",
    "\n",
    "clf_dog = GradientBoostingClassifier(random_state=0, n_estimators=10)\n",
    "clf_dog.fit(X_train_dog, Y_train_dog)\n",
    "\n",
    "y_pred_grad_dog = clf_dog.predict(X_test_dog)\n",
    "\n",
    "print(\"\\n\",confusion_matrix(Y_test_dog, y_pred_grad_dog))\n",
    "print(\"\\nAccuracy Dog: \", accuracy_score(Y_test_dog, y_pred_grad_dog))"
   ]
  },
  {
   "cell_type": "markdown",
   "metadata": {
    "papermill": {
     "duration": 0.093351,
     "end_time": "2020-10-09T15:59:24.193838",
     "exception": false,
     "start_time": "2020-10-09T15:59:24.100487",
     "status": "completed"
    },
    "tags": []
   },
   "source": [
    "**XGBoost**"
   ]
  },
  {
   "cell_type": "code",
   "execution_count": 45,
   "metadata": {},
   "outputs": [
    {
     "name": "stdout",
     "output_type": "stream",
     "text": [
      "Collecting xgboost\n",
      "  Downloading xgboost-1.4.2-py3-none-win_amd64.whl (97.8 MB)\n",
      "Requirement already satisfied: numpy in c:\\users\\oztop\\anaconda3\\lib\\site-packages (from xgboost) (1.19.2)\n",
      "Requirement already satisfied: scipy in c:\\users\\oztop\\anaconda3\\lib\\site-packages (from xgboost) (1.5.2)\n",
      "Installing collected packages: xgboost\n",
      "Successfully installed xgboost-1.4.2\n",
      "Note: you may need to restart the kernel to use updated packages.\n"
     ]
    }
   ],
   "source": [
    "pip install xgboost"
   ]
  },
  {
   "cell_type": "code",
   "execution_count": 46,
   "metadata": {
    "execution": {
     "iopub.execute_input": "2020-10-09T15:59:24.391607Z",
     "iopub.status.busy": "2020-10-09T15:59:24.390912Z",
     "iopub.status.idle": "2020-10-09T15:59:32.653073Z",
     "shell.execute_reply": "2020-10-09T15:59:32.653831Z"
    },
    "papermill": {
     "duration": 8.364554,
     "end_time": "2020-10-09T15:59:32.654042",
     "exception": false,
     "start_time": "2020-10-09T15:59:24.289488",
     "status": "completed"
    },
    "tags": []
   },
   "outputs": [
    {
     "name": "stdout",
     "output_type": "stream",
     "text": [
      "[02:12:43] WARNING: C:/Users/Administrator/workspace/xgboost-win64_release_1.4.0/src/learner.cc:1095: Starting in XGBoost 1.3.0, the default evaluation metric used with the objective 'multi:softprob' was changed from 'merror' to 'mlogloss'. Explicitly set eval_metric if you'd like to restore the old behavior.\n",
      "[[1288    1    5   31  120]\n",
      " [   9    7    9    0   26]\n",
      " [  27    5   69    4  132]\n",
      " [  79    0    6   19   49]\n",
      " [ 142    2   28   21 1596]]\n",
      "\n",
      "Accuracy Cat:  0.8106122448979591\n",
      "[02:12:46] WARNING: C:/Users/Administrator/workspace/xgboost-win64_release_1.4.0/src/learner.cc:1095: Starting in XGBoost 1.3.0, the default evaluation metric used with the objective 'multi:softprob' was changed from 'merror' to 'mlogloss'. Explicitly set eval_metric if you'd like to restore the old behavior.\n",
      "\n",
      " [[1678    0   12  378  133]\n",
      " [   3    0    0    2    7]\n",
      " [  39    0   67   86   90]\n",
      " [ 494    0   21  725  159]\n",
      " [ 314    1   32  254  652]]\n",
      "\n",
      "Accuracy Dog:  0.6065669321935108\n"
     ]
    }
   ],
   "source": [
    "from xgboost import XGBClassifier\n",
    "\n",
    "xg_cat = XGBClassifier(random_state=42)\n",
    "model_xg_cat = xg_cat.fit(X_train_cat, Y_train_cat)\n",
    "\n",
    "y_pred_xg_cat = xg_cat.predict(X_test_cat)\n",
    "\n",
    "\n",
    "print(confusion_matrix(Y_test_cat, y_pred_xg_cat))\n",
    "print(\"\\nAccuracy Cat: \", accuracy_score(Y_test_cat, y_pred_xg_cat))\n",
    "\n",
    "\n",
    "xg_dog = XGBClassifier(random_state=0)\n",
    "model_xg_dog = xg_dog.fit(X_train_dog, Y_train_dog)\n",
    "\n",
    "y_pred_dog = xg_dog.predict(X_test_dog)\n",
    "\n",
    "\n",
    "print(\"\\n\",confusion_matrix(Y_test_dog, y_pred_dog))\n",
    "print(\"\\nAccuracy Dog: \", accuracy_score(Y_test_dog, y_pred_dog))"
   ]
  },
  {
   "cell_type": "markdown",
   "metadata": {
    "papermill": {
     "duration": 0.097273,
     "end_time": "2020-10-09T15:59:32.897210",
     "exception": false,
     "start_time": "2020-10-09T15:59:32.799937",
     "status": "completed"
    },
    "tags": []
   },
   "source": [
    "**SVM**"
   ]
  },
  {
   "cell_type": "code",
   "execution_count": 47,
   "metadata": {
    "execution": {
     "iopub.execute_input": "2020-10-09T15:59:33.099291Z",
     "iopub.status.busy": "2020-10-09T15:59:33.098539Z",
     "iopub.status.idle": "2020-10-09T15:59:57.777637Z",
     "shell.execute_reply": "2020-10-09T15:59:57.776922Z"
    },
    "papermill": {
     "duration": 24.786368,
     "end_time": "2020-10-09T15:59:57.777804",
     "exception": false,
     "start_time": "2020-10-09T15:59:32.991436",
     "status": "completed"
    },
    "tags": []
   },
   "outputs": [
    {
     "name": "stdout",
     "output_type": "stream",
     "text": [
      "[[1304    0    0    0  141]\n",
      " [  15    0    0    0   36]\n",
      " [  73    0    0    0  164]\n",
      " [  97    0    0    0   56]\n",
      " [ 444    0    0    0 1345]]\n",
      "\n",
      "Accuracy Cat:  0.7208163265306122\n",
      "\n",
      " [[1831    0    0  323   47]\n",
      " [   3    0    0    5    4]\n",
      " [  83    0    0  134   65]\n",
      " [ 697    0    0  629   73]\n",
      " [ 677    0    0  293  283]]\n",
      "\n",
      "Accuracy Dog:  0.5329318049349135\n"
     ]
    }
   ],
   "source": [
    "from sklearn.svm import SVC\n",
    "\n",
    "clf_cat = SVC(random_state=0)\n",
    "clf_cat.fit(X_train_cat, Y_train_cat)\n",
    "\n",
    "y_pred_svm_cat = clf_cat.predict(X_test_cat)\n",
    "\n",
    "print(confusion_matrix(Y_test_cat, y_pred_svm_cat))\n",
    "print(\"\\nAccuracy Cat: \", accuracy_score(Y_test_cat, y_pred_svm_cat))\n",
    "\n",
    "\n",
    "clf_dog = SVC(random_state=0)\n",
    "clf_dog.fit(X_train_dog, Y_train_dog)\n",
    "\n",
    "y_pred_svm_dog = clf_dog.predict(X_test_dog)\n",
    "\n",
    "print(\"\\n\",confusion_matrix(Y_test_dog, y_pred_svm_dog))\n",
    "print(\"\\nAccuracy Dog: \", accuracy_score(Y_test_dog, y_pred_svm_dog))"
   ]
  },
  {
   "cell_type": "markdown",
   "metadata": {
    "papermill": {
     "duration": 0.09444,
     "end_time": "2020-10-09T15:59:57.967424",
     "exception": false,
     "start_time": "2020-10-09T15:59:57.872984",
     "status": "completed"
    },
    "tags": []
   },
   "source": [
    "**Logistic Regression:**\n",
    "Cat: 0.7355\n",
    "Dog: 0.5884\n",
    "\n",
    "**Decision Tree:**\n",
    "Cat: 0.7559\n",
    "Dog: 0.4969\n",
    "\n",
    "**Random Forest:**\n",
    "Cat:0.8125\n",
    "Dog: 0.6079\n",
    "\n",
    "**AdaBoost:**\n",
    "Cat: 0.7472\n",
    "Dog: 0.5544\n",
    "\n",
    "**Gradient Boosting:**\n",
    "Cat: 0.7844\n",
    "Dog: 0.5918\n",
    "\n",
    "**XGBoost:**\n",
    "Cat: 0.8106\n",
    "Dog: 0.6065\n",
    "\n",
    "**SVM:**\n",
    "Cat: 0.7208\n",
    "Dog: 0.5329\n",
    "\n",
    "\n",
    "We see that **\"XGBoost\"** gives the best accuracy, so we will use it for getting predictions and submission."
   ]
  },
  {
   "cell_type": "markdown",
   "metadata": {
    "papermill": {
     "duration": 0.0944,
     "end_time": "2020-10-09T15:59:58.157345",
     "exception": false,
     "start_time": "2020-10-09T15:59:58.062945",
     "status": "completed"
    },
    "tags": []
   },
   "source": [
    "**Getting Predictions**"
   ]
  },
  {
   "cell_type": "code",
   "execution_count": 48,
   "metadata": {
    "execution": {
     "iopub.execute_input": "2020-10-09T15:59:58.357744Z",
     "iopub.status.busy": "2020-10-09T15:59:58.355823Z",
     "iopub.status.idle": "2020-10-09T15:59:58.383000Z",
     "shell.execute_reply": "2020-10-09T15:59:58.382384Z"
    },
    "papermill": {
     "duration": 0.129218,
     "end_time": "2020-10-09T15:59:58.383130",
     "exception": false,
     "start_time": "2020-10-09T15:59:58.253912",
     "status": "completed"
    },
    "tags": []
   },
   "outputs": [
    {
     "data": {
      "text/html": [
       "<div>\n",
       "<style scoped>\n",
       "    .dataframe tbody tr th:only-of-type {\n",
       "        vertical-align: middle;\n",
       "    }\n",
       "\n",
       "    .dataframe tbody tr th {\n",
       "        vertical-align: top;\n",
       "    }\n",
       "\n",
       "    .dataframe thead th {\n",
       "        text-align: right;\n",
       "    }\n",
       "</style>\n",
       "<table border=\"1\" class=\"dataframe\">\n",
       "  <thead>\n",
       "    <tr style=\"text-align: right;\">\n",
       "      <th></th>\n",
       "      <th>ID</th>\n",
       "      <th>name</th>\n",
       "      <th>date</th>\n",
       "      <th>animal</th>\n",
       "      <th>sex</th>\n",
       "      <th>age</th>\n",
       "      <th>breed</th>\n",
       "      <th>color</th>\n",
       "      <th>less_1month</th>\n",
       "      <th>age_2_10</th>\n",
       "      <th>...</th>\n",
       "      <th>hairgroup</th>\n",
       "      <th>mix</th>\n",
       "      <th>IsSolidColor</th>\n",
       "      <th>virginity</th>\n",
       "      <th>sex_</th>\n",
       "      <th>dayofweek</th>\n",
       "      <th>month</th>\n",
       "      <th>year</th>\n",
       "      <th>hour</th>\n",
       "      <th>minute</th>\n",
       "    </tr>\n",
       "  </thead>\n",
       "  <tbody>\n",
       "    <tr>\n",
       "      <th>2</th>\n",
       "      <td>3</td>\n",
       "      <td>1</td>\n",
       "      <td>2016-01-13 12:20:00</td>\n",
       "      <td>Cat</td>\n",
       "      <td>Neutered Male</td>\n",
       "      <td>2</td>\n",
       "      <td>other</td>\n",
       "      <td>12</td>\n",
       "      <td>no</td>\n",
       "      <td>no</td>\n",
       "      <td>...</td>\n",
       "      <td>0</td>\n",
       "      <td>0</td>\n",
       "      <td>1</td>\n",
       "      <td>1</td>\n",
       "      <td>1</td>\n",
       "      <td>2</td>\n",
       "      <td>1</td>\n",
       "      <td>4</td>\n",
       "      <td>12</td>\n",
       "      <td>20</td>\n",
       "    </tr>\n",
       "    <tr>\n",
       "      <th>6</th>\n",
       "      <td>7</td>\n",
       "      <td>1</td>\n",
       "      <td>2014-03-12 09:45:00</td>\n",
       "      <td>Cat</td>\n",
       "      <td>Neutered Male</td>\n",
       "      <td>5</td>\n",
       "      <td>other</td>\n",
       "      <td>12</td>\n",
       "      <td>no</td>\n",
       "      <td>no</td>\n",
       "      <td>...</td>\n",
       "      <td>2</td>\n",
       "      <td>1</td>\n",
       "      <td>0</td>\n",
       "      <td>1</td>\n",
       "      <td>1</td>\n",
       "      <td>2</td>\n",
       "      <td>3</td>\n",
       "      <td>2</td>\n",
       "      <td>9</td>\n",
       "      <td>45</td>\n",
       "    </tr>\n",
       "    <tr>\n",
       "      <th>7</th>\n",
       "      <td>8</td>\n",
       "      <td>1</td>\n",
       "      <td>2014-06-25 08:27:00</td>\n",
       "      <td>Cat</td>\n",
       "      <td>Spayed Female</td>\n",
       "      <td>1</td>\n",
       "      <td>other</td>\n",
       "      <td>12</td>\n",
       "      <td>no</td>\n",
       "      <td>no</td>\n",
       "      <td>...</td>\n",
       "      <td>0</td>\n",
       "      <td>0</td>\n",
       "      <td>1</td>\n",
       "      <td>1</td>\n",
       "      <td>2</td>\n",
       "      <td>2</td>\n",
       "      <td>6</td>\n",
       "      <td>2</td>\n",
       "      <td>8</td>\n",
       "      <td>27</td>\n",
       "    </tr>\n",
       "  </tbody>\n",
       "</table>\n",
       "<p>3 rows × 21 columns</p>\n",
       "</div>"
      ],
      "text/plain": [
       "   ID  name                date animal            sex  age  breed  color  \\\n",
       "2   3     1 2016-01-13 12:20:00    Cat  Neutered Male    2  other     12   \n",
       "6   7     1 2014-03-12 09:45:00    Cat  Neutered Male    5  other     12   \n",
       "7   8     1 2014-06-25 08:27:00    Cat  Spayed Female    1  other     12   \n",
       "\n",
       "  less_1month age_2_10  ... hairgroup  mix  IsSolidColor  virginity  sex_  \\\n",
       "2          no       no  ...         0    0             1          1     1   \n",
       "6          no       no  ...         2    1             0          1     1   \n",
       "7          no       no  ...         0    0             1          1     2   \n",
       "\n",
       "   dayofweek  month  year  hour  minute  \n",
       "2          2      1     4    12      20  \n",
       "6          2      3     2     9      45  \n",
       "7          2      6     2     8      27  \n",
       "\n",
       "[3 rows x 21 columns]"
      ]
     },
     "execution_count": 48,
     "metadata": {},
     "output_type": "execute_result"
    }
   ],
   "source": [
    "test_cat.head(3)"
   ]
  },
  {
   "cell_type": "code",
   "execution_count": 49,
   "metadata": {
    "execution": {
     "iopub.execute_input": "2020-10-09T15:59:58.589604Z",
     "iopub.status.busy": "2020-10-09T15:59:58.587721Z",
     "iopub.status.idle": "2020-10-09T15:59:58.670708Z",
     "shell.execute_reply": "2020-10-09T15:59:58.669911Z"
    },
    "papermill": {
     "duration": 0.190979,
     "end_time": "2020-10-09T15:59:58.670856",
     "exception": false,
     "start_time": "2020-10-09T15:59:58.479877",
     "status": "completed"
    },
    "tags": []
   },
   "outputs": [],
   "source": [
    "#taking ID columns for submission before dropping\n",
    "sub_cat = pd.DataFrame()\n",
    "sub_cat['ID'] = test_cat.ID\n",
    "\n",
    "test_cat = test_cat.drop(['ID','date','animal','sex'], axis=1)\n",
    "test_cat = pd.get_dummies(test_cat)\n",
    "\n",
    "#taking predictions for xgboost\n",
    "y_pred_cat = model_xg_cat.predict_proba(test_cat)\n",
    "\n",
    "#adding predictions to datasests which contains ID values\n",
    "sub_cat['Adoption'], sub_cat['Died'], sub_cat['Euthanasia'], sub_cat['Return_to_owner'], sub_cat['Transfer'] = y_pred_cat[:,0], y_pred_cat[:,1], y_pred_cat[:,2], y_pred_cat[:,3], y_pred_cat[:,4]\n"
   ]
  },
  {
   "cell_type": "code",
   "execution_count": 50,
   "metadata": {
    "execution": {
     "iopub.execute_input": "2020-10-09T15:59:58.908684Z",
     "iopub.status.busy": "2020-10-09T15:59:58.907896Z",
     "iopub.status.idle": "2020-10-09T15:59:58.912705Z",
     "shell.execute_reply": "2020-10-09T15:59:58.912102Z"
    },
    "papermill": {
     "duration": 0.126205,
     "end_time": "2020-10-09T15:59:58.912836",
     "exception": false,
     "start_time": "2020-10-09T15:59:58.786631",
     "status": "completed"
    },
    "tags": []
   },
   "outputs": [
    {
     "data": {
      "text/html": [
       "<div>\n",
       "<style scoped>\n",
       "    .dataframe tbody tr th:only-of-type {\n",
       "        vertical-align: middle;\n",
       "    }\n",
       "\n",
       "    .dataframe tbody tr th {\n",
       "        vertical-align: top;\n",
       "    }\n",
       "\n",
       "    .dataframe thead th {\n",
       "        text-align: right;\n",
       "    }\n",
       "</style>\n",
       "<table border=\"1\" class=\"dataframe\">\n",
       "  <thead>\n",
       "    <tr style=\"text-align: right;\">\n",
       "      <th></th>\n",
       "      <th>ID</th>\n",
       "      <th>Adoption</th>\n",
       "      <th>Died</th>\n",
       "      <th>Euthanasia</th>\n",
       "      <th>Return_to_owner</th>\n",
       "      <th>Transfer</th>\n",
       "    </tr>\n",
       "  </thead>\n",
       "  <tbody>\n",
       "    <tr>\n",
       "      <th>2</th>\n",
       "      <td>3</td>\n",
       "      <td>0.065054</td>\n",
       "      <td>0.000023</td>\n",
       "      <td>0.001262</td>\n",
       "      <td>0.043325</td>\n",
       "      <td>0.890335</td>\n",
       "    </tr>\n",
       "    <tr>\n",
       "      <th>6</th>\n",
       "      <td>7</td>\n",
       "      <td>0.371957</td>\n",
       "      <td>0.006365</td>\n",
       "      <td>0.256986</td>\n",
       "      <td>0.043014</td>\n",
       "      <td>0.321679</td>\n",
       "    </tr>\n",
       "    <tr>\n",
       "      <th>7</th>\n",
       "      <td>8</td>\n",
       "      <td>0.990280</td>\n",
       "      <td>0.002593</td>\n",
       "      <td>0.001193</td>\n",
       "      <td>0.000446</td>\n",
       "      <td>0.005489</td>\n",
       "    </tr>\n",
       "    <tr>\n",
       "      <th>18</th>\n",
       "      <td>19</td>\n",
       "      <td>0.131425</td>\n",
       "      <td>0.000279</td>\n",
       "      <td>0.010663</td>\n",
       "      <td>0.136931</td>\n",
       "      <td>0.720701</td>\n",
       "    </tr>\n",
       "    <tr>\n",
       "      <th>19</th>\n",
       "      <td>20</td>\n",
       "      <td>0.001774</td>\n",
       "      <td>0.064658</td>\n",
       "      <td>0.180792</td>\n",
       "      <td>0.000615</td>\n",
       "      <td>0.752160</td>\n",
       "    </tr>\n",
       "  </tbody>\n",
       "</table>\n",
       "</div>"
      ],
      "text/plain": [
       "    ID  Adoption      Died  Euthanasia  Return_to_owner  Transfer\n",
       "2    3  0.065054  0.000023    0.001262         0.043325  0.890335\n",
       "6    7  0.371957  0.006365    0.256986         0.043014  0.321679\n",
       "7    8  0.990280  0.002593    0.001193         0.000446  0.005489\n",
       "18  19  0.131425  0.000279    0.010663         0.136931  0.720701\n",
       "19  20  0.001774  0.064658    0.180792         0.000615  0.752160"
      ]
     },
     "execution_count": 50,
     "metadata": {},
     "output_type": "execute_result"
    }
   ],
   "source": [
    "sub_cat.head()"
   ]
  },
  {
   "cell_type": "markdown",
   "metadata": {
    "papermill": {
     "duration": 0.097201,
     "end_time": "2020-10-09T15:59:59.107644",
     "exception": false,
     "start_time": "2020-10-09T15:59:59.010443",
     "status": "completed"
    },
    "tags": []
   },
   "source": [
    "The dataframe **sub_cat** which contains predictions of **test_cat** is ready, now let's do the same for dogs."
   ]
  },
  {
   "cell_type": "code",
   "execution_count": 51,
   "metadata": {
    "execution": {
     "iopub.execute_input": "2020-10-09T15:59:59.315177Z",
     "iopub.status.busy": "2020-10-09T15:59:59.314385Z",
     "iopub.status.idle": "2020-10-09T15:59:59.426011Z",
     "shell.execute_reply": "2020-10-09T15:59:59.426783Z"
    },
    "papermill": {
     "duration": 0.221638,
     "end_time": "2020-10-09T15:59:59.426989",
     "exception": false,
     "start_time": "2020-10-09T15:59:59.205351",
     "status": "completed"
    },
    "tags": []
   },
   "outputs": [],
   "source": [
    "#taking ID columns for submission before dropping\n",
    "sub_dog = pd.DataFrame()\n",
    "sub_dog['ID'] = test_dog.ID\n",
    "\n",
    "#taking predictions for xgboost\n",
    "test_dog = test_dog.drop(['ID','date','animal','sex'], axis=1)\n",
    "test_dog = pd.get_dummies(test_dog)\n",
    "\n",
    "#adding predictions to datasests which contains ID values\n",
    "y_pred_dog = model_xg_dog.predict_proba(test_dog)\n",
    "sub_dog['Adoption'], sub_dog['Died'], sub_dog['Euthanasia'], sub_dog['Return_to_owner'], sub_dog['Transfer'] = y_pred_dog[:,0], y_pred_dog[:,1], y_pred_dog[:,2], y_pred_dog[:,3], y_pred_dog[:,4]\n"
   ]
  },
  {
   "cell_type": "code",
   "execution_count": 52,
   "metadata": {
    "execution": {
     "iopub.execute_input": "2020-10-09T15:59:59.667878Z",
     "iopub.status.busy": "2020-10-09T15:59:59.667016Z",
     "iopub.status.idle": "2020-10-09T15:59:59.671223Z",
     "shell.execute_reply": "2020-10-09T15:59:59.671759Z"
    },
    "papermill": {
     "duration": 0.125789,
     "end_time": "2020-10-09T15:59:59.671921",
     "exception": false,
     "start_time": "2020-10-09T15:59:59.546132",
     "status": "completed"
    },
    "tags": []
   },
   "outputs": [
    {
     "data": {
      "text/html": [
       "<div>\n",
       "<style scoped>\n",
       "    .dataframe tbody tr th:only-of-type {\n",
       "        vertical-align: middle;\n",
       "    }\n",
       "\n",
       "    .dataframe tbody tr th {\n",
       "        vertical-align: top;\n",
       "    }\n",
       "\n",
       "    .dataframe thead th {\n",
       "        text-align: right;\n",
       "    }\n",
       "</style>\n",
       "<table border=\"1\" class=\"dataframe\">\n",
       "  <thead>\n",
       "    <tr style=\"text-align: right;\">\n",
       "      <th></th>\n",
       "      <th>ID</th>\n",
       "      <th>Adoption</th>\n",
       "      <th>Died</th>\n",
       "      <th>Euthanasia</th>\n",
       "      <th>Return_to_owner</th>\n",
       "      <th>Transfer</th>\n",
       "    </tr>\n",
       "  </thead>\n",
       "  <tbody>\n",
       "    <tr>\n",
       "      <th>0</th>\n",
       "      <td>1</td>\n",
       "      <td>0.004889</td>\n",
       "      <td>0.000361</td>\n",
       "      <td>0.023132</td>\n",
       "      <td>0.170224</td>\n",
       "      <td>0.801394</td>\n",
       "    </tr>\n",
       "    <tr>\n",
       "      <th>1</th>\n",
       "      <td>2</td>\n",
       "      <td>0.745679</td>\n",
       "      <td>0.000050</td>\n",
       "      <td>0.001933</td>\n",
       "      <td>0.189425</td>\n",
       "      <td>0.062912</td>\n",
       "    </tr>\n",
       "    <tr>\n",
       "      <th>3</th>\n",
       "      <td>4</td>\n",
       "      <td>0.186196</td>\n",
       "      <td>0.000178</td>\n",
       "      <td>0.006751</td>\n",
       "      <td>0.439422</td>\n",
       "      <td>0.367453</td>\n",
       "    </tr>\n",
       "    <tr>\n",
       "      <th>4</th>\n",
       "      <td>5</td>\n",
       "      <td>0.386096</td>\n",
       "      <td>0.000234</td>\n",
       "      <td>0.000917</td>\n",
       "      <td>0.532307</td>\n",
       "      <td>0.080446</td>\n",
       "    </tr>\n",
       "    <tr>\n",
       "      <th>5</th>\n",
       "      <td>6</td>\n",
       "      <td>0.168905</td>\n",
       "      <td>0.000286</td>\n",
       "      <td>0.017647</td>\n",
       "      <td>0.616934</td>\n",
       "      <td>0.196228</td>\n",
       "    </tr>\n",
       "  </tbody>\n",
       "</table>\n",
       "</div>"
      ],
      "text/plain": [
       "   ID  Adoption      Died  Euthanasia  Return_to_owner  Transfer\n",
       "0   1  0.004889  0.000361    0.023132         0.170224  0.801394\n",
       "1   2  0.745679  0.000050    0.001933         0.189425  0.062912\n",
       "3   4  0.186196  0.000178    0.006751         0.439422  0.367453\n",
       "4   5  0.386096  0.000234    0.000917         0.532307  0.080446\n",
       "5   6  0.168905  0.000286    0.017647         0.616934  0.196228"
      ]
     },
     "execution_count": 52,
     "metadata": {},
     "output_type": "execute_result"
    }
   ],
   "source": [
    "sub_dog.head()"
   ]
  },
  {
   "cell_type": "markdown",
   "metadata": {
    "papermill": {
     "duration": 0.097345,
     "end_time": "2020-10-09T15:59:59.867294",
     "exception": false,
     "start_time": "2020-10-09T15:59:59.769949",
     "status": "completed"
    },
    "tags": []
   },
   "source": [
    "The dataframe **sub_dog** which contains predictions of **test_dog** is ready. Now concat **\"sub_dog & sub_cat\"** dataframes, sort by ID and do submission."
   ]
  },
  {
   "cell_type": "code",
   "execution_count": 53,
   "metadata": {
    "execution": {
     "iopub.execute_input": "2020-10-09T16:00:00.070544Z",
     "iopub.status.busy": "2020-10-09T16:00:00.069779Z",
     "iopub.status.idle": "2020-10-09T16:00:00.089988Z",
     "shell.execute_reply": "2020-10-09T16:00:00.089236Z"
    },
    "papermill": {
     "duration": 0.1249,
     "end_time": "2020-10-09T16:00:00.090111",
     "exception": false,
     "start_time": "2020-10-09T15:59:59.965211",
     "status": "completed"
    },
    "tags": []
   },
   "outputs": [
    {
     "data": {
      "text/html": [
       "<div>\n",
       "<style scoped>\n",
       "    .dataframe tbody tr th:only-of-type {\n",
       "        vertical-align: middle;\n",
       "    }\n",
       "\n",
       "    .dataframe tbody tr th {\n",
       "        vertical-align: top;\n",
       "    }\n",
       "\n",
       "    .dataframe thead th {\n",
       "        text-align: right;\n",
       "    }\n",
       "</style>\n",
       "<table border=\"1\" class=\"dataframe\">\n",
       "  <thead>\n",
       "    <tr style=\"text-align: right;\">\n",
       "      <th></th>\n",
       "      <th>ID</th>\n",
       "      <th>Adoption</th>\n",
       "      <th>Died</th>\n",
       "      <th>Euthanasia</th>\n",
       "      <th>Return_to_owner</th>\n",
       "      <th>Transfer</th>\n",
       "    </tr>\n",
       "  </thead>\n",
       "  <tbody>\n",
       "    <tr>\n",
       "      <th>0</th>\n",
       "      <td>1</td>\n",
       "      <td>0.004889</td>\n",
       "      <td>0.000361</td>\n",
       "      <td>0.023132</td>\n",
       "      <td>0.170224</td>\n",
       "      <td>0.801394</td>\n",
       "    </tr>\n",
       "    <tr>\n",
       "      <th>1</th>\n",
       "      <td>2</td>\n",
       "      <td>0.745679</td>\n",
       "      <td>0.000050</td>\n",
       "      <td>0.001933</td>\n",
       "      <td>0.189425</td>\n",
       "      <td>0.062912</td>\n",
       "    </tr>\n",
       "    <tr>\n",
       "      <th>2</th>\n",
       "      <td>3</td>\n",
       "      <td>0.065054</td>\n",
       "      <td>0.000023</td>\n",
       "      <td>0.001262</td>\n",
       "      <td>0.043325</td>\n",
       "      <td>0.890335</td>\n",
       "    </tr>\n",
       "    <tr>\n",
       "      <th>3</th>\n",
       "      <td>4</td>\n",
       "      <td>0.186196</td>\n",
       "      <td>0.000178</td>\n",
       "      <td>0.006751</td>\n",
       "      <td>0.439422</td>\n",
       "      <td>0.367453</td>\n",
       "    </tr>\n",
       "    <tr>\n",
       "      <th>4</th>\n",
       "      <td>5</td>\n",
       "      <td>0.386096</td>\n",
       "      <td>0.000234</td>\n",
       "      <td>0.000917</td>\n",
       "      <td>0.532307</td>\n",
       "      <td>0.080446</td>\n",
       "    </tr>\n",
       "    <tr>\n",
       "      <th>...</th>\n",
       "      <td>...</td>\n",
       "      <td>...</td>\n",
       "      <td>...</td>\n",
       "      <td>...</td>\n",
       "      <td>...</td>\n",
       "      <td>...</td>\n",
       "    </tr>\n",
       "    <tr>\n",
       "      <th>11451</th>\n",
       "      <td>11452</td>\n",
       "      <td>0.211204</td>\n",
       "      <td>0.000103</td>\n",
       "      <td>0.005644</td>\n",
       "      <td>0.002373</td>\n",
       "      <td>0.780675</td>\n",
       "    </tr>\n",
       "    <tr>\n",
       "      <th>11452</th>\n",
       "      <td>11453</td>\n",
       "      <td>0.000016</td>\n",
       "      <td>0.004466</td>\n",
       "      <td>0.003155</td>\n",
       "      <td>0.000037</td>\n",
       "      <td>0.992325</td>\n",
       "    </tr>\n",
       "    <tr>\n",
       "      <th>11453</th>\n",
       "      <td>11454</td>\n",
       "      <td>0.000070</td>\n",
       "      <td>0.000023</td>\n",
       "      <td>0.000399</td>\n",
       "      <td>0.000045</td>\n",
       "      <td>0.999463</td>\n",
       "    </tr>\n",
       "    <tr>\n",
       "      <th>11454</th>\n",
       "      <td>11455</td>\n",
       "      <td>0.535922</td>\n",
       "      <td>0.000204</td>\n",
       "      <td>0.006117</td>\n",
       "      <td>0.424478</td>\n",
       "      <td>0.033278</td>\n",
       "    </tr>\n",
       "    <tr>\n",
       "      <th>11455</th>\n",
       "      <td>11456</td>\n",
       "      <td>0.020581</td>\n",
       "      <td>0.000163</td>\n",
       "      <td>0.038349</td>\n",
       "      <td>0.754639</td>\n",
       "      <td>0.186268</td>\n",
       "    </tr>\n",
       "  </tbody>\n",
       "</table>\n",
       "<p>11456 rows × 6 columns</p>\n",
       "</div>"
      ],
      "text/plain": [
       "          ID  Adoption      Died  Euthanasia  Return_to_owner  Transfer\n",
       "0          1  0.004889  0.000361    0.023132         0.170224  0.801394\n",
       "1          2  0.745679  0.000050    0.001933         0.189425  0.062912\n",
       "2          3  0.065054  0.000023    0.001262         0.043325  0.890335\n",
       "3          4  0.186196  0.000178    0.006751         0.439422  0.367453\n",
       "4          5  0.386096  0.000234    0.000917         0.532307  0.080446\n",
       "...      ...       ...       ...         ...              ...       ...\n",
       "11451  11452  0.211204  0.000103    0.005644         0.002373  0.780675\n",
       "11452  11453  0.000016  0.004466    0.003155         0.000037  0.992325\n",
       "11453  11454  0.000070  0.000023    0.000399         0.000045  0.999463\n",
       "11454  11455  0.535922  0.000204    0.006117         0.424478  0.033278\n",
       "11455  11456  0.020581  0.000163    0.038349         0.754639  0.186268\n",
       "\n",
       "[11456 rows x 6 columns]"
      ]
     },
     "execution_count": 53,
     "metadata": {},
     "output_type": "execute_result"
    }
   ],
   "source": [
    "sub = pd.concat([sub_cat,sub_dog])\n",
    "sub = sub.sort_values('ID')\n",
    "sub\n",
    "# sub.to_csv(\"submission_last.csv\", index=False)"
   ]
  },
  {
   "cell_type": "markdown",
   "metadata": {
    "papermill": {
     "duration": 0.098917,
     "end_time": "2020-10-09T16:00:00.288536",
     "exception": false,
     "start_time": "2020-10-09T16:00:00.189619",
     "status": "completed"
    },
    "tags": []
   },
   "source": [
    "With this submission my **kaggle score** is: **0.76081**"
   ]
  },
  {
   "cell_type": "code",
   "execution_count": null,
   "metadata": {},
   "outputs": [],
   "source": []
  }
 ],
 "metadata": {
  "kernelspec": {
   "display_name": "Python 3",
   "language": "python",
   "name": "python3"
  },
  "language_info": {
   "codemirror_mode": {
    "name": "ipython",
    "version": 3
   },
   "file_extension": ".py",
   "mimetype": "text/x-python",
   "name": "python",
   "nbconvert_exporter": "python",
   "pygments_lexer": "ipython3",
   "version": "3.8.5"
  },
  "papermill": {
   "duration": 102.562137,
   "end_time": "2020-10-09T16:00:00.496052",
   "environment_variables": {},
   "exception": null,
   "input_path": "__notebook__.ipynb",
   "output_path": "__notebook__.ipynb",
   "parameters": {},
   "start_time": "2020-10-09T15:58:17.933915",
   "version": "2.1.0"
  }
 },
 "nbformat": 4,
 "nbformat_minor": 4
}
